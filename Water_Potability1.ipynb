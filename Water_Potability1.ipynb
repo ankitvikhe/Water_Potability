{
 "cells": [
  {
   "cell_type": "code",
   "execution_count": 2,
   "id": "e93f5750",
   "metadata": {},
   "outputs": [],
   "source": [
    "import pandas as pd\n",
    "import numpy as np\n",
    "import seaborn as sns\n",
    "import matplotlib.pyplot as plt\n",
    "from sklearn.impute import KNNImputer\n",
    "from scipy.stats import skew\n",
    "from sklearn.model_selection import train_test_split\n",
    "from sklearn.preprocessing import StandardScaler,MinMaxScaler\n",
    "from sklearn.linear_model import LogisticRegression\n",
    "from sklearn.neighbors import KNeighborsClassifier\n",
    "from sklearn.tree import DecisionTreeClassifier\n",
    "from sklearn.linear_model import RidgeClassifier\n",
    "from sklearn.ensemble import RandomForestClassifier,AdaBoostClassifier\n",
    "from sklearn.metrics import accuracy_score,confusion_matrix,classification_report\n",
    "from scipy.stats import boxcox\n",
    "from imblearn.over_sampling import RandomOverSampler"
   ]
  },
  {
   "cell_type": "code",
   "execution_count": 3,
   "id": "1347a83e",
   "metadata": {},
   "outputs": [],
   "source": [
    "df = pd.read_csv(r\"G:\\Velocity Aug 22\\PROJECTS FOR FRESHER PROFILE\\Water_Potability\\water_potability.csv\")"
   ]
  },
  {
   "cell_type": "code",
   "execution_count": 4,
   "id": "02fbe345",
   "metadata": {},
   "outputs": [
    {
     "data": {
      "text/html": [
       "<div>\n",
       "<style scoped>\n",
       "    .dataframe tbody tr th:only-of-type {\n",
       "        vertical-align: middle;\n",
       "    }\n",
       "\n",
       "    .dataframe tbody tr th {\n",
       "        vertical-align: top;\n",
       "    }\n",
       "\n",
       "    .dataframe thead th {\n",
       "        text-align: right;\n",
       "    }\n",
       "</style>\n",
       "<table border=\"1\" class=\"dataframe\">\n",
       "  <thead>\n",
       "    <tr style=\"text-align: right;\">\n",
       "      <th></th>\n",
       "      <th>ph</th>\n",
       "      <th>Hardness</th>\n",
       "      <th>Solids</th>\n",
       "      <th>Chloramines</th>\n",
       "      <th>Sulfate</th>\n",
       "      <th>Conductivity</th>\n",
       "      <th>Organic_carbon</th>\n",
       "      <th>Trihalomethanes</th>\n",
       "      <th>Turbidity</th>\n",
       "      <th>Potability</th>\n",
       "    </tr>\n",
       "  </thead>\n",
       "  <tbody>\n",
       "    <tr>\n",
       "      <th>0</th>\n",
       "      <td>NaN</td>\n",
       "      <td>204.890455</td>\n",
       "      <td>20791.318981</td>\n",
       "      <td>7.300212</td>\n",
       "      <td>368.516441</td>\n",
       "      <td>564.308654</td>\n",
       "      <td>10.379783</td>\n",
       "      <td>86.990970</td>\n",
       "      <td>2.963135</td>\n",
       "      <td>0</td>\n",
       "    </tr>\n",
       "    <tr>\n",
       "      <th>1</th>\n",
       "      <td>3.716080</td>\n",
       "      <td>129.422921</td>\n",
       "      <td>18630.057858</td>\n",
       "      <td>6.635246</td>\n",
       "      <td>NaN</td>\n",
       "      <td>592.885359</td>\n",
       "      <td>15.180013</td>\n",
       "      <td>56.329076</td>\n",
       "      <td>4.500656</td>\n",
       "      <td>0</td>\n",
       "    </tr>\n",
       "    <tr>\n",
       "      <th>2</th>\n",
       "      <td>8.099124</td>\n",
       "      <td>224.236259</td>\n",
       "      <td>19909.541732</td>\n",
       "      <td>9.275884</td>\n",
       "      <td>NaN</td>\n",
       "      <td>418.606213</td>\n",
       "      <td>16.868637</td>\n",
       "      <td>66.420093</td>\n",
       "      <td>3.055934</td>\n",
       "      <td>0</td>\n",
       "    </tr>\n",
       "    <tr>\n",
       "      <th>3</th>\n",
       "      <td>8.316766</td>\n",
       "      <td>214.373394</td>\n",
       "      <td>22018.417441</td>\n",
       "      <td>8.059332</td>\n",
       "      <td>356.886136</td>\n",
       "      <td>363.266516</td>\n",
       "      <td>18.436524</td>\n",
       "      <td>100.341674</td>\n",
       "      <td>4.628771</td>\n",
       "      <td>0</td>\n",
       "    </tr>\n",
       "    <tr>\n",
       "      <th>4</th>\n",
       "      <td>9.092223</td>\n",
       "      <td>181.101509</td>\n",
       "      <td>17978.986339</td>\n",
       "      <td>6.546600</td>\n",
       "      <td>310.135738</td>\n",
       "      <td>398.410813</td>\n",
       "      <td>11.558279</td>\n",
       "      <td>31.997993</td>\n",
       "      <td>4.075075</td>\n",
       "      <td>0</td>\n",
       "    </tr>\n",
       "    <tr>\n",
       "      <th>...</th>\n",
       "      <td>...</td>\n",
       "      <td>...</td>\n",
       "      <td>...</td>\n",
       "      <td>...</td>\n",
       "      <td>...</td>\n",
       "      <td>...</td>\n",
       "      <td>...</td>\n",
       "      <td>...</td>\n",
       "      <td>...</td>\n",
       "      <td>...</td>\n",
       "    </tr>\n",
       "    <tr>\n",
       "      <th>3271</th>\n",
       "      <td>4.668102</td>\n",
       "      <td>193.681735</td>\n",
       "      <td>47580.991603</td>\n",
       "      <td>7.166639</td>\n",
       "      <td>359.948574</td>\n",
       "      <td>526.424171</td>\n",
       "      <td>13.894419</td>\n",
       "      <td>66.687695</td>\n",
       "      <td>4.435821</td>\n",
       "      <td>1</td>\n",
       "    </tr>\n",
       "    <tr>\n",
       "      <th>3272</th>\n",
       "      <td>7.808856</td>\n",
       "      <td>193.553212</td>\n",
       "      <td>17329.802160</td>\n",
       "      <td>8.061362</td>\n",
       "      <td>NaN</td>\n",
       "      <td>392.449580</td>\n",
       "      <td>19.903225</td>\n",
       "      <td>NaN</td>\n",
       "      <td>2.798243</td>\n",
       "      <td>1</td>\n",
       "    </tr>\n",
       "    <tr>\n",
       "      <th>3273</th>\n",
       "      <td>9.419510</td>\n",
       "      <td>175.762646</td>\n",
       "      <td>33155.578218</td>\n",
       "      <td>7.350233</td>\n",
       "      <td>NaN</td>\n",
       "      <td>432.044783</td>\n",
       "      <td>11.039070</td>\n",
       "      <td>69.845400</td>\n",
       "      <td>3.298875</td>\n",
       "      <td>1</td>\n",
       "    </tr>\n",
       "    <tr>\n",
       "      <th>3274</th>\n",
       "      <td>5.126763</td>\n",
       "      <td>230.603758</td>\n",
       "      <td>11983.869376</td>\n",
       "      <td>6.303357</td>\n",
       "      <td>NaN</td>\n",
       "      <td>402.883113</td>\n",
       "      <td>11.168946</td>\n",
       "      <td>77.488213</td>\n",
       "      <td>4.708658</td>\n",
       "      <td>1</td>\n",
       "    </tr>\n",
       "    <tr>\n",
       "      <th>3275</th>\n",
       "      <td>7.874671</td>\n",
       "      <td>195.102299</td>\n",
       "      <td>17404.177061</td>\n",
       "      <td>7.509306</td>\n",
       "      <td>NaN</td>\n",
       "      <td>327.459760</td>\n",
       "      <td>16.140368</td>\n",
       "      <td>78.698446</td>\n",
       "      <td>2.309149</td>\n",
       "      <td>1</td>\n",
       "    </tr>\n",
       "  </tbody>\n",
       "</table>\n",
       "<p>3276 rows × 10 columns</p>\n",
       "</div>"
      ],
      "text/plain": [
       "            ph    Hardness        Solids  Chloramines     Sulfate  \\\n",
       "0          NaN  204.890455  20791.318981     7.300212  368.516441   \n",
       "1     3.716080  129.422921  18630.057858     6.635246         NaN   \n",
       "2     8.099124  224.236259  19909.541732     9.275884         NaN   \n",
       "3     8.316766  214.373394  22018.417441     8.059332  356.886136   \n",
       "4     9.092223  181.101509  17978.986339     6.546600  310.135738   \n",
       "...        ...         ...           ...          ...         ...   \n",
       "3271  4.668102  193.681735  47580.991603     7.166639  359.948574   \n",
       "3272  7.808856  193.553212  17329.802160     8.061362         NaN   \n",
       "3273  9.419510  175.762646  33155.578218     7.350233         NaN   \n",
       "3274  5.126763  230.603758  11983.869376     6.303357         NaN   \n",
       "3275  7.874671  195.102299  17404.177061     7.509306         NaN   \n",
       "\n",
       "      Conductivity  Organic_carbon  Trihalomethanes  Turbidity  Potability  \n",
       "0       564.308654       10.379783        86.990970   2.963135           0  \n",
       "1       592.885359       15.180013        56.329076   4.500656           0  \n",
       "2       418.606213       16.868637        66.420093   3.055934           0  \n",
       "3       363.266516       18.436524       100.341674   4.628771           0  \n",
       "4       398.410813       11.558279        31.997993   4.075075           0  \n",
       "...            ...             ...              ...        ...         ...  \n",
       "3271    526.424171       13.894419        66.687695   4.435821           1  \n",
       "3272    392.449580       19.903225              NaN   2.798243           1  \n",
       "3273    432.044783       11.039070        69.845400   3.298875           1  \n",
       "3274    402.883113       11.168946        77.488213   4.708658           1  \n",
       "3275    327.459760       16.140368        78.698446   2.309149           1  \n",
       "\n",
       "[3276 rows x 10 columns]"
      ]
     },
     "execution_count": 4,
     "metadata": {},
     "output_type": "execute_result"
    }
   ],
   "source": [
    "df"
   ]
  },
  {
   "cell_type": "markdown",
   "id": "19acad89",
   "metadata": {},
   "source": [
    "## Train Test Split"
   ]
  },
  {
   "cell_type": "code",
   "execution_count": 5,
   "id": "7830d6a9",
   "metadata": {},
   "outputs": [],
   "source": [
    "x = df.drop(\"Potability\",axis= 1)\n",
    "y = df[\"Potability\"]"
   ]
  },
  {
   "cell_type": "code",
   "execution_count": 6,
   "id": "fe2bee03",
   "metadata": {},
   "outputs": [],
   "source": [
    "x_train,x_test,y_train,y_test = train_test_split(x,y,test_size=0.2,random_state=45,stratify=y)"
   ]
  },
  {
   "cell_type": "code",
   "execution_count": 7,
   "id": "250bc5a3",
   "metadata": {},
   "outputs": [
    {
     "data": {
      "text/html": [
       "<div>\n",
       "<style scoped>\n",
       "    .dataframe tbody tr th:only-of-type {\n",
       "        vertical-align: middle;\n",
       "    }\n",
       "\n",
       "    .dataframe tbody tr th {\n",
       "        vertical-align: top;\n",
       "    }\n",
       "\n",
       "    .dataframe thead th {\n",
       "        text-align: right;\n",
       "    }\n",
       "</style>\n",
       "<table border=\"1\" class=\"dataframe\">\n",
       "  <thead>\n",
       "    <tr style=\"text-align: right;\">\n",
       "      <th></th>\n",
       "      <th>ph</th>\n",
       "      <th>Hardness</th>\n",
       "      <th>Solids</th>\n",
       "      <th>Chloramines</th>\n",
       "      <th>Sulfate</th>\n",
       "      <th>Conductivity</th>\n",
       "      <th>Organic_carbon</th>\n",
       "      <th>Trihalomethanes</th>\n",
       "      <th>Turbidity</th>\n",
       "    </tr>\n",
       "  </thead>\n",
       "  <tbody>\n",
       "    <tr>\n",
       "      <th>1168</th>\n",
       "      <td>5.473603</td>\n",
       "      <td>218.513145</td>\n",
       "      <td>14608.363145</td>\n",
       "      <td>5.621362</td>\n",
       "      <td>NaN</td>\n",
       "      <td>472.796835</td>\n",
       "      <td>10.583581</td>\n",
       "      <td>73.106007</td>\n",
       "      <td>4.957822</td>\n",
       "    </tr>\n",
       "    <tr>\n",
       "      <th>3175</th>\n",
       "      <td>7.027297</td>\n",
       "      <td>185.838671</td>\n",
       "      <td>31151.615179</td>\n",
       "      <td>7.625545</td>\n",
       "      <td>327.221734</td>\n",
       "      <td>398.705017</td>\n",
       "      <td>19.461464</td>\n",
       "      <td>80.693568</td>\n",
       "      <td>3.392666</td>\n",
       "    </tr>\n",
       "    <tr>\n",
       "      <th>2617</th>\n",
       "      <td>7.509350</td>\n",
       "      <td>192.467955</td>\n",
       "      <td>17045.600095</td>\n",
       "      <td>8.815845</td>\n",
       "      <td>346.741822</td>\n",
       "      <td>266.357744</td>\n",
       "      <td>15.930051</td>\n",
       "      <td>83.262529</td>\n",
       "      <td>4.321856</td>\n",
       "    </tr>\n",
       "    <tr>\n",
       "      <th>2648</th>\n",
       "      <td>4.126581</td>\n",
       "      <td>113.024472</td>\n",
       "      <td>40528.805353</td>\n",
       "      <td>6.489951</td>\n",
       "      <td>NaN</td>\n",
       "      <td>392.109146</td>\n",
       "      <td>15.793392</td>\n",
       "      <td>68.797443</td>\n",
       "      <td>3.504751</td>\n",
       "    </tr>\n",
       "    <tr>\n",
       "      <th>622</th>\n",
       "      <td>4.029053</td>\n",
       "      <td>203.386857</td>\n",
       "      <td>42327.168016</td>\n",
       "      <td>8.550483</td>\n",
       "      <td>279.675256</td>\n",
       "      <td>503.732428</td>\n",
       "      <td>13.758836</td>\n",
       "      <td>46.384064</td>\n",
       "      <td>4.179656</td>\n",
       "    </tr>\n",
       "  </tbody>\n",
       "</table>\n",
       "</div>"
      ],
      "text/plain": [
       "            ph    Hardness        Solids  Chloramines     Sulfate  \\\n",
       "1168  5.473603  218.513145  14608.363145     5.621362         NaN   \n",
       "3175  7.027297  185.838671  31151.615179     7.625545  327.221734   \n",
       "2617  7.509350  192.467955  17045.600095     8.815845  346.741822   \n",
       "2648  4.126581  113.024472  40528.805353     6.489951         NaN   \n",
       "622   4.029053  203.386857  42327.168016     8.550483  279.675256   \n",
       "\n",
       "      Conductivity  Organic_carbon  Trihalomethanes  Turbidity  \n",
       "1168    472.796835       10.583581        73.106007   4.957822  \n",
       "3175    398.705017       19.461464        80.693568   3.392666  \n",
       "2617    266.357744       15.930051        83.262529   4.321856  \n",
       "2648    392.109146       15.793392        68.797443   3.504751  \n",
       "622     503.732428       13.758836        46.384064   4.179656  "
      ]
     },
     "execution_count": 7,
     "metadata": {},
     "output_type": "execute_result"
    }
   ],
   "source": [
    "x_train.head()"
   ]
  },
  {
   "cell_type": "code",
   "execution_count": 8,
   "id": "1d85f747",
   "metadata": {},
   "outputs": [
    {
     "data": {
      "text/plain": [
       "ph                     3.716080\n",
       "Hardness             129.422921\n",
       "Solids             18630.057858\n",
       "Chloramines            6.635246\n",
       "Sulfate                     NaN\n",
       "Conductivity         592.885359\n",
       "Organic_carbon        15.180013\n",
       "Trihalomethanes       56.329076\n",
       "Turbidity              4.500656\n",
       "Name: 1, dtype: float64"
      ]
     },
     "execution_count": 8,
     "metadata": {},
     "output_type": "execute_result"
    }
   ],
   "source": [
    "x_test.loc[1]"
   ]
  },
  {
   "cell_type": "markdown",
   "id": "8d30a603",
   "metadata": {},
   "source": [
    "## EDA"
   ]
  },
  {
   "cell_type": "code",
   "execution_count": 9,
   "id": "90e4fde2",
   "metadata": {},
   "outputs": [
    {
     "name": "stdout",
     "output_type": "stream",
     "text": [
      "<class 'pandas.core.frame.DataFrame'>\n",
      "Int64Index: 2620 entries, 1168 to 3233\n",
      "Data columns (total 9 columns):\n",
      " #   Column           Non-Null Count  Dtype  \n",
      "---  ------           --------------  -----  \n",
      " 0   ph               2223 non-null   float64\n",
      " 1   Hardness         2620 non-null   float64\n",
      " 2   Solids           2620 non-null   float64\n",
      " 3   Chloramines      2620 non-null   float64\n",
      " 4   Sulfate          1989 non-null   float64\n",
      " 5   Conductivity     2620 non-null   float64\n",
      " 6   Organic_carbon   2620 non-null   float64\n",
      " 7   Trihalomethanes  2493 non-null   float64\n",
      " 8   Turbidity        2620 non-null   float64\n",
      "dtypes: float64(9)\n",
      "memory usage: 204.7 KB\n"
     ]
    }
   ],
   "source": [
    "x_train.info()"
   ]
  },
  {
   "cell_type": "code",
   "execution_count": 10,
   "id": "c2ec840f",
   "metadata": {},
   "outputs": [
    {
     "data": {
      "text/plain": [
       "(2620, 9)"
      ]
     },
     "execution_count": 10,
     "metadata": {},
     "output_type": "execute_result"
    }
   ],
   "source": [
    "x_train.shape"
   ]
  },
  {
   "cell_type": "code",
   "execution_count": 11,
   "id": "4a9e0ac0",
   "metadata": {},
   "outputs": [
    {
     "data": {
      "text/plain": [
       "24.083969465648856"
      ]
     },
     "execution_count": 11,
     "metadata": {},
     "output_type": "execute_result"
    }
   ],
   "source": [
    "x_train[\"Sulfate\"].isna().mean()*100"
   ]
  },
  {
   "cell_type": "code",
   "execution_count": 12,
   "id": "75629af3",
   "metadata": {},
   "outputs": [
    {
     "data": {
      "text/plain": [
       "15.152671755725192"
      ]
     },
     "execution_count": 12,
     "metadata": {},
     "output_type": "execute_result"
    }
   ],
   "source": [
    "x_train[\"ph\"].isna().mean()*100"
   ]
  },
  {
   "cell_type": "code",
   "execution_count": 13,
   "id": "8bdbca5c",
   "metadata": {},
   "outputs": [
    {
     "data": {
      "text/plain": [
       "ph                 15.152672\n",
       "Hardness            0.000000\n",
       "Solids              0.000000\n",
       "Chloramines         0.000000\n",
       "Sulfate            24.083969\n",
       "Conductivity        0.000000\n",
       "Organic_carbon      0.000000\n",
       "Trihalomethanes     4.847328\n",
       "Turbidity           0.000000\n",
       "dtype: float64"
      ]
     },
     "execution_count": 13,
     "metadata": {},
     "output_type": "execute_result"
    }
   ],
   "source": [
    "x_train.isna().mean()*100"
   ]
  },
  {
   "cell_type": "code",
   "execution_count": 14,
   "id": "7e3ad4ea",
   "metadata": {},
   "outputs": [
    {
     "data": {
      "text/plain": [
       "ph                 14.329268\n",
       "Hardness            0.000000\n",
       "Solids              0.000000\n",
       "Chloramines         0.000000\n",
       "Sulfate            22.865854\n",
       "Conductivity        0.000000\n",
       "Organic_carbon      0.000000\n",
       "Trihalomethanes     5.335366\n",
       "Turbidity           0.000000\n",
       "dtype: float64"
      ]
     },
     "execution_count": 14,
     "metadata": {},
     "output_type": "execute_result"
    }
   ],
   "source": [
    "x_test.isna().mean()*100"
   ]
  },
  {
   "cell_type": "code",
   "execution_count": 15,
   "id": "e34c6d7b",
   "metadata": {},
   "outputs": [
    {
     "data": {
      "text/html": [
       "<div>\n",
       "<style scoped>\n",
       "    .dataframe tbody tr th:only-of-type {\n",
       "        vertical-align: middle;\n",
       "    }\n",
       "\n",
       "    .dataframe tbody tr th {\n",
       "        vertical-align: top;\n",
       "    }\n",
       "\n",
       "    .dataframe thead th {\n",
       "        text-align: right;\n",
       "    }\n",
       "</style>\n",
       "<table border=\"1\" class=\"dataframe\">\n",
       "  <thead>\n",
       "    <tr style=\"text-align: right;\">\n",
       "      <th></th>\n",
       "      <th>ph</th>\n",
       "      <th>Hardness</th>\n",
       "      <th>Solids</th>\n",
       "      <th>Chloramines</th>\n",
       "      <th>Sulfate</th>\n",
       "      <th>Conductivity</th>\n",
       "      <th>Organic_carbon</th>\n",
       "      <th>Trihalomethanes</th>\n",
       "      <th>Turbidity</th>\n",
       "    </tr>\n",
       "  </thead>\n",
       "  <tbody>\n",
       "    <tr>\n",
       "      <th>count</th>\n",
       "      <td>2223.000000</td>\n",
       "      <td>2620.000000</td>\n",
       "      <td>2620.000000</td>\n",
       "      <td>2620.000000</td>\n",
       "      <td>1989.000000</td>\n",
       "      <td>2620.000000</td>\n",
       "      <td>2620.000000</td>\n",
       "      <td>2493.000000</td>\n",
       "      <td>2620.000000</td>\n",
       "    </tr>\n",
       "    <tr>\n",
       "      <th>mean</th>\n",
       "      <td>7.077748</td>\n",
       "      <td>196.159435</td>\n",
       "      <td>22006.378657</td>\n",
       "      <td>7.126331</td>\n",
       "      <td>334.025813</td>\n",
       "      <td>426.326042</td>\n",
       "      <td>14.331416</td>\n",
       "      <td>66.336109</td>\n",
       "      <td>3.965132</td>\n",
       "    </tr>\n",
       "    <tr>\n",
       "      <th>std</th>\n",
       "      <td>1.593406</td>\n",
       "      <td>33.162091</td>\n",
       "      <td>8758.796391</td>\n",
       "      <td>1.565385</td>\n",
       "      <td>41.353974</td>\n",
       "      <td>81.309848</td>\n",
       "      <td>3.314200</td>\n",
       "      <td>16.097544</td>\n",
       "      <td>0.788507</td>\n",
       "    </tr>\n",
       "    <tr>\n",
       "      <th>min</th>\n",
       "      <td>0.000000</td>\n",
       "      <td>47.432000</td>\n",
       "      <td>320.942611</td>\n",
       "      <td>0.352000</td>\n",
       "      <td>129.000000</td>\n",
       "      <td>181.483754</td>\n",
       "      <td>4.371899</td>\n",
       "      <td>8.175876</td>\n",
       "      <td>1.450000</td>\n",
       "    </tr>\n",
       "    <tr>\n",
       "      <th>25%</th>\n",
       "      <td>6.072434</td>\n",
       "      <td>176.331233</td>\n",
       "      <td>15732.309141</td>\n",
       "      <td>6.162264</td>\n",
       "      <td>307.954902</td>\n",
       "      <td>364.512390</td>\n",
       "      <td>12.120397</td>\n",
       "      <td>56.044934</td>\n",
       "      <td>3.437334</td>\n",
       "    </tr>\n",
       "    <tr>\n",
       "      <th>50%</th>\n",
       "      <td>7.031684</td>\n",
       "      <td>196.442155</td>\n",
       "      <td>20921.203012</td>\n",
       "      <td>7.142639</td>\n",
       "      <td>333.319882</td>\n",
       "      <td>422.353759</td>\n",
       "      <td>14.252791</td>\n",
       "      <td>66.728402</td>\n",
       "      <td>3.948659</td>\n",
       "    </tr>\n",
       "    <tr>\n",
       "      <th>75%</th>\n",
       "      <td>8.047456</td>\n",
       "      <td>216.657847</td>\n",
       "      <td>27339.015540</td>\n",
       "      <td>8.107380</td>\n",
       "      <td>360.086657</td>\n",
       "      <td>482.607998</td>\n",
       "      <td>16.615199</td>\n",
       "      <td>77.322330</td>\n",
       "      <td>4.509173</td>\n",
       "    </tr>\n",
       "    <tr>\n",
       "      <th>max</th>\n",
       "      <td>14.000000</td>\n",
       "      <td>323.124000</td>\n",
       "      <td>61227.196008</td>\n",
       "      <td>13.127000</td>\n",
       "      <td>481.030642</td>\n",
       "      <td>753.342620</td>\n",
       "      <td>28.300000</td>\n",
       "      <td>124.000000</td>\n",
       "      <td>6.739000</td>\n",
       "    </tr>\n",
       "  </tbody>\n",
       "</table>\n",
       "</div>"
      ],
      "text/plain": [
       "                ph     Hardness        Solids  Chloramines      Sulfate  \\\n",
       "count  2223.000000  2620.000000   2620.000000  2620.000000  1989.000000   \n",
       "mean      7.077748   196.159435  22006.378657     7.126331   334.025813   \n",
       "std       1.593406    33.162091   8758.796391     1.565385    41.353974   \n",
       "min       0.000000    47.432000    320.942611     0.352000   129.000000   \n",
       "25%       6.072434   176.331233  15732.309141     6.162264   307.954902   \n",
       "50%       7.031684   196.442155  20921.203012     7.142639   333.319882   \n",
       "75%       8.047456   216.657847  27339.015540     8.107380   360.086657   \n",
       "max      14.000000   323.124000  61227.196008    13.127000   481.030642   \n",
       "\n",
       "       Conductivity  Organic_carbon  Trihalomethanes    Turbidity  \n",
       "count   2620.000000     2620.000000      2493.000000  2620.000000  \n",
       "mean     426.326042       14.331416        66.336109     3.965132  \n",
       "std       81.309848        3.314200        16.097544     0.788507  \n",
       "min      181.483754        4.371899         8.175876     1.450000  \n",
       "25%      364.512390       12.120397        56.044934     3.437334  \n",
       "50%      422.353759       14.252791        66.728402     3.948659  \n",
       "75%      482.607998       16.615199        77.322330     4.509173  \n",
       "max      753.342620       28.300000       124.000000     6.739000  "
      ]
     },
     "execution_count": 15,
     "metadata": {},
     "output_type": "execute_result"
    }
   ],
   "source": [
    "x_train.describe()"
   ]
  },
  {
   "cell_type": "code",
   "execution_count": 16,
   "id": "47e4ada4",
   "metadata": {},
   "outputs": [
    {
     "data": {
      "text/plain": [
       "<AxesSubplot:xlabel='Potability', ylabel='count'>"
      ]
     },
     "execution_count": 16,
     "metadata": {},
     "output_type": "execute_result"
    },
    {
     "data": {
      "image/png": "[encoded data removed]",
      "text/plain": [
       "<Figure size 432x288 with 1 Axes>"
      ]
     },
     "metadata": {
      "needs_background": "light"
     },
     "output_type": "display_data"
    }
   ],
   "source": [
    "sns.countplot(x = y_train)"
   ]
  },
  {
   "cell_type": "code",
   "execution_count": 17,
   "id": "8fdb265c",
   "metadata": {},
   "outputs": [],
   "source": [
    "# std = StandardScaler()\n",
    "# array = std.fit_transform(x_train)\n",
    "# x_train = pd.DataFrame(array,columns=x_train.columns)"
   ]
  },
  {
   "cell_type": "code",
   "execution_count": 18,
   "id": "58f04c2c",
   "metadata": {},
   "outputs": [],
   "source": [
    "# array2 = std.transform(x_test)\n",
    "# x_test = pd.DataFrame(array2,columns=x_test.columns)"
   ]
  },
  {
   "cell_type": "code",
   "execution_count": 19,
   "id": "8f05c736",
   "metadata": {},
   "outputs": [],
   "source": [
    "Normal = MinMaxScaler()\n",
    "array = Normal.fit_transform(x_train)\n",
    "x_train = pd.DataFrame(array,columns=x_train.columns)"
   ]
  },
  {
   "cell_type": "code",
   "execution_count": 20,
   "id": "594dfe82",
   "metadata": {},
   "outputs": [],
   "source": [
    "array2 = Normal.transform(x_test)\n",
    "x_test = pd.DataFrame(array2,columns=x_test.columns)"
   ]
  },
  {
   "cell_type": "code",
   "execution_count": 21,
   "id": "6a139b79",
   "metadata": {},
   "outputs": [
    {
     "data": {
      "text/html": [
       "<div>\n",
       "<style scoped>\n",
       "    .dataframe tbody tr th:only-of-type {\n",
       "        vertical-align: middle;\n",
       "    }\n",
       "\n",
       "    .dataframe tbody tr th {\n",
       "        vertical-align: top;\n",
       "    }\n",
       "\n",
       "    .dataframe thead th {\n",
       "        text-align: right;\n",
       "    }\n",
       "</style>\n",
       "<table border=\"1\" class=\"dataframe\">\n",
       "  <thead>\n",
       "    <tr style=\"text-align: right;\">\n",
       "      <th></th>\n",
       "      <th>ph</th>\n",
       "      <th>Hardness</th>\n",
       "      <th>Solids</th>\n",
       "      <th>Chloramines</th>\n",
       "      <th>Sulfate</th>\n",
       "      <th>Conductivity</th>\n",
       "      <th>Organic_carbon</th>\n",
       "      <th>Trihalomethanes</th>\n",
       "      <th>Turbidity</th>\n",
       "    </tr>\n",
       "  </thead>\n",
       "  <tbody>\n",
       "    <tr>\n",
       "      <th>0</th>\n",
       "      <td>0.477254</td>\n",
       "      <td>0.693094</td>\n",
       "      <td>0.423787</td>\n",
       "      <td>0.465946</td>\n",
       "      <td>0.511992</td>\n",
       "      <td>0.252759</td>\n",
       "      <td>0.157402</td>\n",
       "      <td>0.327319</td>\n",
       "      <td>0.284883</td>\n",
       "    </tr>\n",
       "    <tr>\n",
       "      <th>1</th>\n",
       "      <td>0.438553</td>\n",
       "      <td>0.438940</td>\n",
       "      <td>0.387041</td>\n",
       "      <td>0.715662</td>\n",
       "      <td>0.536959</td>\n",
       "      <td>0.546718</td>\n",
       "      <td>0.616184</td>\n",
       "      <td>0.449724</td>\n",
       "      <td>0.452112</td>\n",
       "    </tr>\n",
       "    <tr>\n",
       "      <th>2</th>\n",
       "      <td>0.588792</td>\n",
       "      <td>0.606115</td>\n",
       "      <td>0.478442</td>\n",
       "      <td>0.623337</td>\n",
       "      <td>NaN</td>\n",
       "      <td>0.582322</td>\n",
       "      <td>0.498571</td>\n",
       "      <td>0.707107</td>\n",
       "      <td>0.397186</td>\n",
       "    </tr>\n",
       "    <tr>\n",
       "      <th>3</th>\n",
       "      <td>0.561792</td>\n",
       "      <td>0.589815</td>\n",
       "      <td>0.229692</td>\n",
       "      <td>0.490090</td>\n",
       "      <td>NaN</td>\n",
       "      <td>0.387992</td>\n",
       "      <td>0.355542</td>\n",
       "      <td>0.569475</td>\n",
       "      <td>0.632450</td>\n",
       "    </tr>\n",
       "    <tr>\n",
       "      <th>4</th>\n",
       "      <td>0.511238</td>\n",
       "      <td>0.604218</td>\n",
       "      <td>0.384158</td>\n",
       "      <td>0.279637</td>\n",
       "      <td>0.610073</td>\n",
       "      <td>0.569049</td>\n",
       "      <td>0.462809</td>\n",
       "      <td>NaN</td>\n",
       "      <td>0.705922</td>\n",
       "    </tr>\n",
       "    <tr>\n",
       "      <th>...</th>\n",
       "      <td>...</td>\n",
       "      <td>...</td>\n",
       "      <td>...</td>\n",
       "      <td>...</td>\n",
       "      <td>...</td>\n",
       "      <td>...</td>\n",
       "      <td>...</td>\n",
       "      <td>...</td>\n",
       "      <td>...</td>\n",
       "    </tr>\n",
       "    <tr>\n",
       "      <th>651</th>\n",
       "      <td>0.509816</td>\n",
       "      <td>0.591496</td>\n",
       "      <td>0.282166</td>\n",
       "      <td>0.544261</td>\n",
       "      <td>0.490418</td>\n",
       "      <td>0.214661</td>\n",
       "      <td>0.363761</td>\n",
       "      <td>0.483967</td>\n",
       "      <td>0.286289</td>\n",
       "    </tr>\n",
       "    <tr>\n",
       "      <th>652</th>\n",
       "      <td>0.555332</td>\n",
       "      <td>0.534299</td>\n",
       "      <td>0.221800</td>\n",
       "      <td>0.411047</td>\n",
       "      <td>NaN</td>\n",
       "      <td>0.245553</td>\n",
       "      <td>0.605942</td>\n",
       "      <td>NaN</td>\n",
       "      <td>0.465460</td>\n",
       "    </tr>\n",
       "    <tr>\n",
       "      <th>653</th>\n",
       "      <td>0.576663</td>\n",
       "      <td>0.523713</td>\n",
       "      <td>0.275596</td>\n",
       "      <td>0.590742</td>\n",
       "      <td>0.580852</td>\n",
       "      <td>0.439645</td>\n",
       "      <td>0.374601</td>\n",
       "      <td>0.397503</td>\n",
       "      <td>0.643659</td>\n",
       "    </tr>\n",
       "    <tr>\n",
       "      <th>654</th>\n",
       "      <td>0.559535</td>\n",
       "      <td>0.629418</td>\n",
       "      <td>0.460019</td>\n",
       "      <td>0.705976</td>\n",
       "      <td>0.531983</td>\n",
       "      <td>0.490783</td>\n",
       "      <td>0.458085</td>\n",
       "      <td>0.421826</td>\n",
       "      <td>0.781023</td>\n",
       "    </tr>\n",
       "    <tr>\n",
       "      <th>655</th>\n",
       "      <td>NaN</td>\n",
       "      <td>0.522018</td>\n",
       "      <td>0.224877</td>\n",
       "      <td>0.480524</td>\n",
       "      <td>0.615175</td>\n",
       "      <td>0.424046</td>\n",
       "      <td>0.313077</td>\n",
       "      <td>0.497442</td>\n",
       "      <td>0.513771</td>\n",
       "    </tr>\n",
       "  </tbody>\n",
       "</table>\n",
       "<p>656 rows × 9 columns</p>\n",
       "</div>"
      ],
      "text/plain": [
       "           ph  Hardness    Solids  Chloramines   Sulfate  Conductivity  \\\n",
       "0    0.477254  0.693094  0.423787     0.465946  0.511992      0.252759   \n",
       "1    0.438553  0.438940  0.387041     0.715662  0.536959      0.546718   \n",
       "2    0.588792  0.606115  0.478442     0.623337       NaN      0.582322   \n",
       "3    0.561792  0.589815  0.229692     0.490090       NaN      0.387992   \n",
       "4    0.511238  0.604218  0.384158     0.279637  0.610073      0.569049   \n",
       "..        ...       ...       ...          ...       ...           ...   \n",
       "651  0.509816  0.591496  0.282166     0.544261  0.490418      0.214661   \n",
       "652  0.555332  0.534299  0.221800     0.411047       NaN      0.245553   \n",
       "653  0.576663  0.523713  0.275596     0.590742  0.580852      0.439645   \n",
       "654  0.559535  0.629418  0.460019     0.705976  0.531983      0.490783   \n",
       "655       NaN  0.522018  0.224877     0.480524  0.615175      0.424046   \n",
       "\n",
       "     Organic_carbon  Trihalomethanes  Turbidity  \n",
       "0          0.157402         0.327319   0.284883  \n",
       "1          0.616184         0.449724   0.452112  \n",
       "2          0.498571         0.707107   0.397186  \n",
       "3          0.355542         0.569475   0.632450  \n",
       "4          0.462809              NaN   0.705922  \n",
       "..              ...              ...        ...  \n",
       "651        0.363761         0.483967   0.286289  \n",
       "652        0.605942              NaN   0.465460  \n",
       "653        0.374601         0.397503   0.643659  \n",
       "654        0.458085         0.421826   0.781023  \n",
       "655        0.313077         0.497442   0.513771  \n",
       "\n",
       "[656 rows x 9 columns]"
      ]
     },
     "execution_count": 21,
     "metadata": {},
     "output_type": "execute_result"
    }
   ],
   "source": [
    "x_test"
   ]
  },
  {
   "cell_type": "code",
   "execution_count": 22,
   "id": "c3677833",
   "metadata": {},
   "outputs": [
    {
     "data": {
      "text/html": [
       "<div>\n",
       "<style scoped>\n",
       "    .dataframe tbody tr th:only-of-type {\n",
       "        vertical-align: middle;\n",
       "    }\n",
       "\n",
       "    .dataframe tbody tr th {\n",
       "        vertical-align: top;\n",
       "    }\n",
       "\n",
       "    .dataframe thead th {\n",
       "        text-align: right;\n",
       "    }\n",
       "</style>\n",
       "<table border=\"1\" class=\"dataframe\">\n",
       "  <thead>\n",
       "    <tr style=\"text-align: right;\">\n",
       "      <th></th>\n",
       "      <th>ph</th>\n",
       "      <th>Hardness</th>\n",
       "      <th>Solids</th>\n",
       "      <th>Chloramines</th>\n",
       "      <th>Sulfate</th>\n",
       "      <th>Conductivity</th>\n",
       "      <th>Organic_carbon</th>\n",
       "      <th>Trihalomethanes</th>\n",
       "      <th>Turbidity</th>\n",
       "    </tr>\n",
       "  </thead>\n",
       "  <tbody>\n",
       "    <tr>\n",
       "      <th>0</th>\n",
       "      <td>0.390972</td>\n",
       "      <td>0.620552</td>\n",
       "      <td>0.234581</td>\n",
       "      <td>0.412474</td>\n",
       "      <td>NaN</td>\n",
       "      <td>0.509414</td>\n",
       "      <td>0.259598</td>\n",
       "      <td>0.560592</td>\n",
       "      <td>0.663230</td>\n",
       "    </tr>\n",
       "    <tr>\n",
       "      <th>1</th>\n",
       "      <td>0.501950</td>\n",
       "      <td>0.502034</td>\n",
       "      <td>0.506199</td>\n",
       "      <td>0.569358</td>\n",
       "      <td>0.563081</td>\n",
       "      <td>0.379851</td>\n",
       "      <td>0.630621</td>\n",
       "      <td>0.626102</td>\n",
       "      <td>0.367303</td>\n",
       "    </tr>\n",
       "    <tr>\n",
       "      <th>2</th>\n",
       "      <td>0.536382</td>\n",
       "      <td>0.526080</td>\n",
       "      <td>0.274597</td>\n",
       "      <td>0.662532</td>\n",
       "      <td>0.618531</td>\n",
       "      <td>0.148418</td>\n",
       "      <td>0.483037</td>\n",
       "      <td>0.648282</td>\n",
       "      <td>0.542987</td>\n",
       "    </tr>\n",
       "    <tr>\n",
       "      <th>3</th>\n",
       "      <td>0.294756</td>\n",
       "      <td>0.237919</td>\n",
       "      <td>0.660160</td>\n",
       "      <td>0.480466</td>\n",
       "      <td>NaN</td>\n",
       "      <td>0.368317</td>\n",
       "      <td>0.477326</td>\n",
       "      <td>0.523393</td>\n",
       "      <td>0.388495</td>\n",
       "    </tr>\n",
       "    <tr>\n",
       "      <th>4</th>\n",
       "      <td>0.287789</td>\n",
       "      <td>0.565685</td>\n",
       "      <td>0.689687</td>\n",
       "      <td>0.641760</td>\n",
       "      <td>0.428017</td>\n",
       "      <td>0.563511</td>\n",
       "      <td>0.392298</td>\n",
       "      <td>0.329881</td>\n",
       "      <td>0.516101</td>\n",
       "    </tr>\n",
       "    <tr>\n",
       "      <th>...</th>\n",
       "      <td>...</td>\n",
       "      <td>...</td>\n",
       "      <td>...</td>\n",
       "      <td>...</td>\n",
       "      <td>...</td>\n",
       "      <td>...</td>\n",
       "      <td>...</td>\n",
       "      <td>...</td>\n",
       "      <td>...</td>\n",
       "    </tr>\n",
       "    <tr>\n",
       "      <th>2615</th>\n",
       "      <td>0.586460</td>\n",
       "      <td>0.434072</td>\n",
       "      <td>0.223493</td>\n",
       "      <td>0.788324</td>\n",
       "      <td>0.325216</td>\n",
       "      <td>0.366498</td>\n",
       "      <td>0.391805</td>\n",
       "      <td>0.456574</td>\n",
       "      <td>0.666677</td>\n",
       "    </tr>\n",
       "    <tr>\n",
       "      <th>2616</th>\n",
       "      <td>0.501095</td>\n",
       "      <td>0.633609</td>\n",
       "      <td>0.263196</td>\n",
       "      <td>0.586057</td>\n",
       "      <td>0.636847</td>\n",
       "      <td>0.417329</td>\n",
       "      <td>0.186752</td>\n",
       "      <td>0.503937</td>\n",
       "      <td>0.718704</td>\n",
       "    </tr>\n",
       "    <tr>\n",
       "      <th>2617</th>\n",
       "      <td>NaN</td>\n",
       "      <td>0.529461</td>\n",
       "      <td>0.497647</td>\n",
       "      <td>0.510495</td>\n",
       "      <td>0.605610</td>\n",
       "      <td>0.435268</td>\n",
       "      <td>0.546425</td>\n",
       "      <td>0.360096</td>\n",
       "      <td>0.276621</td>\n",
       "    </tr>\n",
       "    <tr>\n",
       "      <th>2618</th>\n",
       "      <td>NaN</td>\n",
       "      <td>0.488523</td>\n",
       "      <td>0.346966</td>\n",
       "      <td>0.494347</td>\n",
       "      <td>NaN</td>\n",
       "      <td>0.368884</td>\n",
       "      <td>0.463584</td>\n",
       "      <td>0.447836</td>\n",
       "      <td>0.678014</td>\n",
       "    </tr>\n",
       "    <tr>\n",
       "      <th>2619</th>\n",
       "      <td>0.748972</td>\n",
       "      <td>0.323351</td>\n",
       "      <td>0.534451</td>\n",
       "      <td>0.629936</td>\n",
       "      <td>0.420196</td>\n",
       "      <td>0.410424</td>\n",
       "      <td>0.606514</td>\n",
       "      <td>0.448115</td>\n",
       "      <td>0.608667</td>\n",
       "    </tr>\n",
       "  </tbody>\n",
       "</table>\n",
       "<p>2620 rows × 9 columns</p>\n",
       "</div>"
      ],
      "text/plain": [
       "            ph  Hardness    Solids  Chloramines   Sulfate  Conductivity  \\\n",
       "0     0.390972  0.620552  0.234581     0.412474       NaN      0.509414   \n",
       "1     0.501950  0.502034  0.506199     0.569358  0.563081      0.379851   \n",
       "2     0.536382  0.526080  0.274597     0.662532  0.618531      0.148418   \n",
       "3     0.294756  0.237919  0.660160     0.480466       NaN      0.368317   \n",
       "4     0.287789  0.565685  0.689687     0.641760  0.428017      0.563511   \n",
       "...        ...       ...       ...          ...       ...           ...   \n",
       "2615  0.586460  0.434072  0.223493     0.788324  0.325216      0.366498   \n",
       "2616  0.501095  0.633609  0.263196     0.586057  0.636847      0.417329   \n",
       "2617       NaN  0.529461  0.497647     0.510495  0.605610      0.435268   \n",
       "2618       NaN  0.488523  0.346966     0.494347       NaN      0.368884   \n",
       "2619  0.748972  0.323351  0.534451     0.629936  0.420196      0.410424   \n",
       "\n",
       "      Organic_carbon  Trihalomethanes  Turbidity  \n",
       "0           0.259598         0.560592   0.663230  \n",
       "1           0.630621         0.626102   0.367303  \n",
       "2           0.483037         0.648282   0.542987  \n",
       "3           0.477326         0.523393   0.388495  \n",
       "4           0.392298         0.329881   0.516101  \n",
       "...              ...              ...        ...  \n",
       "2615        0.391805         0.456574   0.666677  \n",
       "2616        0.186752         0.503937   0.718704  \n",
       "2617        0.546425         0.360096   0.276621  \n",
       "2618        0.463584         0.447836   0.678014  \n",
       "2619        0.606514         0.448115   0.608667  \n",
       "\n",
       "[2620 rows x 9 columns]"
      ]
     },
     "execution_count": 22,
     "metadata": {},
     "output_type": "execute_result"
    }
   ],
   "source": [
    "x_train"
   ]
  },
  {
   "cell_type": "code",
   "execution_count": 23,
   "id": "81c85351",
   "metadata": {},
   "outputs": [],
   "source": [
    "imputer = KNNImputer()\n",
    "array = imputer.fit_transform(x_train)\n",
    "x_train = pd.DataFrame(array,columns=x_train.columns)"
   ]
  },
  {
   "cell_type": "code",
   "execution_count": 24,
   "id": "e0f9ab77",
   "metadata": {},
   "outputs": [
    {
     "data": {
      "text/html": [
       "<div>\n",
       "<style scoped>\n",
       "    .dataframe tbody tr th:only-of-type {\n",
       "        vertical-align: middle;\n",
       "    }\n",
       "\n",
       "    .dataframe tbody tr th {\n",
       "        vertical-align: top;\n",
       "    }\n",
       "\n",
       "    .dataframe thead th {\n",
       "        text-align: right;\n",
       "    }\n",
       "</style>\n",
       "<table border=\"1\" class=\"dataframe\">\n",
       "  <thead>\n",
       "    <tr style=\"text-align: right;\">\n",
       "      <th></th>\n",
       "      <th>ph</th>\n",
       "      <th>Hardness</th>\n",
       "      <th>Solids</th>\n",
       "      <th>Chloramines</th>\n",
       "      <th>Sulfate</th>\n",
       "      <th>Conductivity</th>\n",
       "      <th>Organic_carbon</th>\n",
       "      <th>Trihalomethanes</th>\n",
       "      <th>Turbidity</th>\n",
       "    </tr>\n",
       "  </thead>\n",
       "  <tbody>\n",
       "    <tr>\n",
       "      <th>0</th>\n",
       "      <td>0.390972</td>\n",
       "      <td>0.620552</td>\n",
       "      <td>0.234581</td>\n",
       "      <td>0.412474</td>\n",
       "      <td>0.648887</td>\n",
       "      <td>0.509414</td>\n",
       "      <td>0.259598</td>\n",
       "      <td>0.560592</td>\n",
       "      <td>0.663230</td>\n",
       "    </tr>\n",
       "    <tr>\n",
       "      <th>1</th>\n",
       "      <td>0.501950</td>\n",
       "      <td>0.502034</td>\n",
       "      <td>0.506199</td>\n",
       "      <td>0.569358</td>\n",
       "      <td>0.563081</td>\n",
       "      <td>0.379851</td>\n",
       "      <td>0.630621</td>\n",
       "      <td>0.626102</td>\n",
       "      <td>0.367303</td>\n",
       "    </tr>\n",
       "    <tr>\n",
       "      <th>2</th>\n",
       "      <td>0.536382</td>\n",
       "      <td>0.526080</td>\n",
       "      <td>0.274597</td>\n",
       "      <td>0.662532</td>\n",
       "      <td>0.618531</td>\n",
       "      <td>0.148418</td>\n",
       "      <td>0.483037</td>\n",
       "      <td>0.648282</td>\n",
       "      <td>0.542987</td>\n",
       "    </tr>\n",
       "    <tr>\n",
       "      <th>3</th>\n",
       "      <td>0.294756</td>\n",
       "      <td>0.237919</td>\n",
       "      <td>0.660160</td>\n",
       "      <td>0.480466</td>\n",
       "      <td>0.691527</td>\n",
       "      <td>0.368317</td>\n",
       "      <td>0.477326</td>\n",
       "      <td>0.523393</td>\n",
       "      <td>0.388495</td>\n",
       "    </tr>\n",
       "    <tr>\n",
       "      <th>4</th>\n",
       "      <td>0.287789</td>\n",
       "      <td>0.565685</td>\n",
       "      <td>0.689687</td>\n",
       "      <td>0.641760</td>\n",
       "      <td>0.428017</td>\n",
       "      <td>0.563511</td>\n",
       "      <td>0.392298</td>\n",
       "      <td>0.329881</td>\n",
       "      <td>0.516101</td>\n",
       "    </tr>\n",
       "    <tr>\n",
       "      <th>...</th>\n",
       "      <td>...</td>\n",
       "      <td>...</td>\n",
       "      <td>...</td>\n",
       "      <td>...</td>\n",
       "      <td>...</td>\n",
       "      <td>...</td>\n",
       "      <td>...</td>\n",
       "      <td>...</td>\n",
       "      <td>...</td>\n",
       "    </tr>\n",
       "    <tr>\n",
       "      <th>2615</th>\n",
       "      <td>0.586460</td>\n",
       "      <td>0.434072</td>\n",
       "      <td>0.223493</td>\n",
       "      <td>0.788324</td>\n",
       "      <td>0.325216</td>\n",
       "      <td>0.366498</td>\n",
       "      <td>0.391805</td>\n",
       "      <td>0.456574</td>\n",
       "      <td>0.666677</td>\n",
       "    </tr>\n",
       "    <tr>\n",
       "      <th>2616</th>\n",
       "      <td>0.501095</td>\n",
       "      <td>0.633609</td>\n",
       "      <td>0.263196</td>\n",
       "      <td>0.586057</td>\n",
       "      <td>0.636847</td>\n",
       "      <td>0.417329</td>\n",
       "      <td>0.186752</td>\n",
       "      <td>0.503937</td>\n",
       "      <td>0.718704</td>\n",
       "    </tr>\n",
       "    <tr>\n",
       "      <th>2617</th>\n",
       "      <td>0.494525</td>\n",
       "      <td>0.529461</td>\n",
       "      <td>0.497647</td>\n",
       "      <td>0.510495</td>\n",
       "      <td>0.605610</td>\n",
       "      <td>0.435268</td>\n",
       "      <td>0.546425</td>\n",
       "      <td>0.360096</td>\n",
       "      <td>0.276621</td>\n",
       "    </tr>\n",
       "    <tr>\n",
       "      <th>2618</th>\n",
       "      <td>0.524713</td>\n",
       "      <td>0.488523</td>\n",
       "      <td>0.346966</td>\n",
       "      <td>0.494347</td>\n",
       "      <td>0.564288</td>\n",
       "      <td>0.368884</td>\n",
       "      <td>0.463584</td>\n",
       "      <td>0.447836</td>\n",
       "      <td>0.678014</td>\n",
       "    </tr>\n",
       "    <tr>\n",
       "      <th>2619</th>\n",
       "      <td>0.748972</td>\n",
       "      <td>0.323351</td>\n",
       "      <td>0.534451</td>\n",
       "      <td>0.629936</td>\n",
       "      <td>0.420196</td>\n",
       "      <td>0.410424</td>\n",
       "      <td>0.606514</td>\n",
       "      <td>0.448115</td>\n",
       "      <td>0.608667</td>\n",
       "    </tr>\n",
       "  </tbody>\n",
       "</table>\n",
       "<p>2620 rows × 9 columns</p>\n",
       "</div>"
      ],
      "text/plain": [
       "            ph  Hardness    Solids  Chloramines   Sulfate  Conductivity  \\\n",
       "0     0.390972  0.620552  0.234581     0.412474  0.648887      0.509414   \n",
       "1     0.501950  0.502034  0.506199     0.569358  0.563081      0.379851   \n",
       "2     0.536382  0.526080  0.274597     0.662532  0.618531      0.148418   \n",
       "3     0.294756  0.237919  0.660160     0.480466  0.691527      0.368317   \n",
       "4     0.287789  0.565685  0.689687     0.641760  0.428017      0.563511   \n",
       "...        ...       ...       ...          ...       ...           ...   \n",
       "2615  0.586460  0.434072  0.223493     0.788324  0.325216      0.366498   \n",
       "2616  0.501095  0.633609  0.263196     0.586057  0.636847      0.417329   \n",
       "2617  0.494525  0.529461  0.497647     0.510495  0.605610      0.435268   \n",
       "2618  0.524713  0.488523  0.346966     0.494347  0.564288      0.368884   \n",
       "2619  0.748972  0.323351  0.534451     0.629936  0.420196      0.410424   \n",
       "\n",
       "      Organic_carbon  Trihalomethanes  Turbidity  \n",
       "0           0.259598         0.560592   0.663230  \n",
       "1           0.630621         0.626102   0.367303  \n",
       "2           0.483037         0.648282   0.542987  \n",
       "3           0.477326         0.523393   0.388495  \n",
       "4           0.392298         0.329881   0.516101  \n",
       "...              ...              ...        ...  \n",
       "2615        0.391805         0.456574   0.666677  \n",
       "2616        0.186752         0.503937   0.718704  \n",
       "2617        0.546425         0.360096   0.276621  \n",
       "2618        0.463584         0.447836   0.678014  \n",
       "2619        0.606514         0.448115   0.608667  \n",
       "\n",
       "[2620 rows x 9 columns]"
      ]
     },
     "execution_count": 24,
     "metadata": {},
     "output_type": "execute_result"
    }
   ],
   "source": [
    "x_train"
   ]
  },
  {
   "cell_type": "code",
   "execution_count": 25,
   "id": "d0022904",
   "metadata": {},
   "outputs": [
    {
     "data": {
      "text/plain": [
       "ph                 0.0\n",
       "Hardness           0.0\n",
       "Solids             0.0\n",
       "Chloramines        0.0\n",
       "Sulfate            0.0\n",
       "Conductivity       0.0\n",
       "Organic_carbon     0.0\n",
       "Trihalomethanes    0.0\n",
       "Turbidity          0.0\n",
       "dtype: float64"
      ]
     },
     "execution_count": 25,
     "metadata": {},
     "output_type": "execute_result"
    }
   ],
   "source": [
    "x_train.isna().mean()*100"
   ]
  },
  {
   "cell_type": "code",
   "execution_count": 26,
   "id": "ce4002ce",
   "metadata": {},
   "outputs": [],
   "source": [
    "array2 = imputer.transform(x_test)\n",
    "x_test = pd.DataFrame(array2,columns=x_test.columns)"
   ]
  },
  {
   "cell_type": "code",
   "execution_count": 27,
   "id": "b4c7b112",
   "metadata": {},
   "outputs": [
    {
     "data": {
      "text/html": [
       "<div>\n",
       "<style scoped>\n",
       "    .dataframe tbody tr th:only-of-type {\n",
       "        vertical-align: middle;\n",
       "    }\n",
       "\n",
       "    .dataframe tbody tr th {\n",
       "        vertical-align: top;\n",
       "    }\n",
       "\n",
       "    .dataframe thead th {\n",
       "        text-align: right;\n",
       "    }\n",
       "</style>\n",
       "<table border=\"1\" class=\"dataframe\">\n",
       "  <thead>\n",
       "    <tr style=\"text-align: right;\">\n",
       "      <th></th>\n",
       "      <th>ph</th>\n",
       "      <th>Hardness</th>\n",
       "      <th>Solids</th>\n",
       "      <th>Chloramines</th>\n",
       "      <th>Sulfate</th>\n",
       "      <th>Conductivity</th>\n",
       "      <th>Organic_carbon</th>\n",
       "      <th>Trihalomethanes</th>\n",
       "      <th>Turbidity</th>\n",
       "    </tr>\n",
       "  </thead>\n",
       "  <tbody>\n",
       "    <tr>\n",
       "      <th>0</th>\n",
       "      <td>0.477254</td>\n",
       "      <td>0.693094</td>\n",
       "      <td>0.423787</td>\n",
       "      <td>0.465946</td>\n",
       "      <td>0.511992</td>\n",
       "      <td>0.252759</td>\n",
       "      <td>0.157402</td>\n",
       "      <td>0.327319</td>\n",
       "      <td>0.284883</td>\n",
       "    </tr>\n",
       "    <tr>\n",
       "      <th>1</th>\n",
       "      <td>0.438553</td>\n",
       "      <td>0.438940</td>\n",
       "      <td>0.387041</td>\n",
       "      <td>0.715662</td>\n",
       "      <td>0.536959</td>\n",
       "      <td>0.546718</td>\n",
       "      <td>0.616184</td>\n",
       "      <td>0.449724</td>\n",
       "      <td>0.452112</td>\n",
       "    </tr>\n",
       "    <tr>\n",
       "      <th>2</th>\n",
       "      <td>0.588792</td>\n",
       "      <td>0.606115</td>\n",
       "      <td>0.478442</td>\n",
       "      <td>0.623337</td>\n",
       "      <td>0.594752</td>\n",
       "      <td>0.582322</td>\n",
       "      <td>0.498571</td>\n",
       "      <td>0.707107</td>\n",
       "      <td>0.397186</td>\n",
       "    </tr>\n",
       "    <tr>\n",
       "      <th>3</th>\n",
       "      <td>0.561792</td>\n",
       "      <td>0.589815</td>\n",
       "      <td>0.229692</td>\n",
       "      <td>0.490090</td>\n",
       "      <td>0.571263</td>\n",
       "      <td>0.387992</td>\n",
       "      <td>0.355542</td>\n",
       "      <td>0.569475</td>\n",
       "      <td>0.632450</td>\n",
       "    </tr>\n",
       "    <tr>\n",
       "      <th>4</th>\n",
       "      <td>0.511238</td>\n",
       "      <td>0.604218</td>\n",
       "      <td>0.384158</td>\n",
       "      <td>0.279637</td>\n",
       "      <td>0.610073</td>\n",
       "      <td>0.569049</td>\n",
       "      <td>0.462809</td>\n",
       "      <td>0.471300</td>\n",
       "      <td>0.705922</td>\n",
       "    </tr>\n",
       "    <tr>\n",
       "      <th>...</th>\n",
       "      <td>...</td>\n",
       "      <td>...</td>\n",
       "      <td>...</td>\n",
       "      <td>...</td>\n",
       "      <td>...</td>\n",
       "      <td>...</td>\n",
       "      <td>...</td>\n",
       "      <td>...</td>\n",
       "      <td>...</td>\n",
       "    </tr>\n",
       "    <tr>\n",
       "      <th>651</th>\n",
       "      <td>0.509816</td>\n",
       "      <td>0.591496</td>\n",
       "      <td>0.282166</td>\n",
       "      <td>0.544261</td>\n",
       "      <td>0.490418</td>\n",
       "      <td>0.214661</td>\n",
       "      <td>0.363761</td>\n",
       "      <td>0.483967</td>\n",
       "      <td>0.286289</td>\n",
       "    </tr>\n",
       "    <tr>\n",
       "      <th>652</th>\n",
       "      <td>0.555332</td>\n",
       "      <td>0.534299</td>\n",
       "      <td>0.221800</td>\n",
       "      <td>0.411047</td>\n",
       "      <td>0.682954</td>\n",
       "      <td>0.245553</td>\n",
       "      <td>0.605942</td>\n",
       "      <td>0.525622</td>\n",
       "      <td>0.465460</td>\n",
       "    </tr>\n",
       "    <tr>\n",
       "      <th>653</th>\n",
       "      <td>0.576663</td>\n",
       "      <td>0.523713</td>\n",
       "      <td>0.275596</td>\n",
       "      <td>0.590742</td>\n",
       "      <td>0.580852</td>\n",
       "      <td>0.439645</td>\n",
       "      <td>0.374601</td>\n",
       "      <td>0.397503</td>\n",
       "      <td>0.643659</td>\n",
       "    </tr>\n",
       "    <tr>\n",
       "      <th>654</th>\n",
       "      <td>0.559535</td>\n",
       "      <td>0.629418</td>\n",
       "      <td>0.460019</td>\n",
       "      <td>0.705976</td>\n",
       "      <td>0.531983</td>\n",
       "      <td>0.490783</td>\n",
       "      <td>0.458085</td>\n",
       "      <td>0.421826</td>\n",
       "      <td>0.781023</td>\n",
       "    </tr>\n",
       "    <tr>\n",
       "      <th>655</th>\n",
       "      <td>0.490292</td>\n",
       "      <td>0.522018</td>\n",
       "      <td>0.224877</td>\n",
       "      <td>0.480524</td>\n",
       "      <td>0.615175</td>\n",
       "      <td>0.424046</td>\n",
       "      <td>0.313077</td>\n",
       "      <td>0.497442</td>\n",
       "      <td>0.513771</td>\n",
       "    </tr>\n",
       "  </tbody>\n",
       "</table>\n",
       "<p>656 rows × 9 columns</p>\n",
       "</div>"
      ],
      "text/plain": [
       "           ph  Hardness    Solids  Chloramines   Sulfate  Conductivity  \\\n",
       "0    0.477254  0.693094  0.423787     0.465946  0.511992      0.252759   \n",
       "1    0.438553  0.438940  0.387041     0.715662  0.536959      0.546718   \n",
       "2    0.588792  0.606115  0.478442     0.623337  0.594752      0.582322   \n",
       "3    0.561792  0.589815  0.229692     0.490090  0.571263      0.387992   \n",
       "4    0.511238  0.604218  0.384158     0.279637  0.610073      0.569049   \n",
       "..        ...       ...       ...          ...       ...           ...   \n",
       "651  0.509816  0.591496  0.282166     0.544261  0.490418      0.214661   \n",
       "652  0.555332  0.534299  0.221800     0.411047  0.682954      0.245553   \n",
       "653  0.576663  0.523713  0.275596     0.590742  0.580852      0.439645   \n",
       "654  0.559535  0.629418  0.460019     0.705976  0.531983      0.490783   \n",
       "655  0.490292  0.522018  0.224877     0.480524  0.615175      0.424046   \n",
       "\n",
       "     Organic_carbon  Trihalomethanes  Turbidity  \n",
       "0          0.157402         0.327319   0.284883  \n",
       "1          0.616184         0.449724   0.452112  \n",
       "2          0.498571         0.707107   0.397186  \n",
       "3          0.355542         0.569475   0.632450  \n",
       "4          0.462809         0.471300   0.705922  \n",
       "..              ...              ...        ...  \n",
       "651        0.363761         0.483967   0.286289  \n",
       "652        0.605942         0.525622   0.465460  \n",
       "653        0.374601         0.397503   0.643659  \n",
       "654        0.458085         0.421826   0.781023  \n",
       "655        0.313077         0.497442   0.513771  \n",
       "\n",
       "[656 rows x 9 columns]"
      ]
     },
     "execution_count": 27,
     "metadata": {},
     "output_type": "execute_result"
    }
   ],
   "source": [
    "x_test"
   ]
  },
  {
   "cell_type": "code",
   "execution_count": 28,
   "id": "240bbdce",
   "metadata": {},
   "outputs": [
    {
     "data": {
      "text/plain": [
       "ph                 0.0\n",
       "Hardness           0.0\n",
       "Solids             0.0\n",
       "Chloramines        0.0\n",
       "Sulfate            0.0\n",
       "Conductivity       0.0\n",
       "Organic_carbon     0.0\n",
       "Trihalomethanes    0.0\n",
       "Turbidity          0.0\n",
       "dtype: float64"
      ]
     },
     "execution_count": 28,
     "metadata": {},
     "output_type": "execute_result"
    }
   ],
   "source": [
    "x_test.isna().mean()*100"
   ]
  },
  {
   "cell_type": "code",
   "execution_count": 29,
   "id": "55d5a0cd",
   "metadata": {
    "scrolled": false
   },
   "outputs": [
    {
     "name": "stdout",
     "output_type": "stream",
     "text": [
      "Column_Name : ph\n"
     ]
    },
    {
     "data": {
      "image/png": "[encoded data removed]",
      "text/plain": [
       "<Figure size 432x288 with 1 Axes>"
      ]
     },
     "metadata": {
      "needs_background": "light"
     },
     "output_type": "display_data"
    },
    {
     "name": "stdout",
     "output_type": "stream",
     "text": [
      "********************************************************************************\n"
     ]
    },
    {
     "data": {
      "image/png": "[encoded data removed]",
      "text/plain": [
       "<Figure size 432x288 with 1 Axes>"
      ]
     },
     "metadata": {
      "needs_background": "light"
     },
     "output_type": "display_data"
    },
    {
     "name": "stdout",
     "output_type": "stream",
     "text": [
      "********************************************************************************\n",
      "Skewness :  0.025630447632210205\n",
      "################################################################################\n",
      "Column_Name : Hardness\n"
     ]
    },
    {
     "data": {
      "image/png": "[encoded data removed]",
      "text/plain": [
       "<Figure size 432x288 with 1 Axes>"
      ]
     },
     "metadata": {
      "needs_background": "light"
     },
     "output_type": "display_data"
    },
    {
     "name": "stdout",
     "output_type": "stream",
     "text": [
      "********************************************************************************\n"
     ]
    },
    {
     "data": {
      "image/png": "[encoded data removed]",
      "text/plain": [
       "<Figure size 432x288 with 1 Axes>"
      ]
     },
     "metadata": {
      "needs_background": "light"
     },
     "output_type": "display_data"
    },
    {
     "name": "stdout",
     "output_type": "stream",
     "text": [
      "********************************************************************************\n",
      "Skewness :  -0.0393417047767249\n",
      "################################################################################\n",
      "Column_Name : Solids\n"
     ]
    },
    {
     "data": {
      "image/png": "[encoded data removed]",
      "text/plain": [
       "<Figure size 432x288 with 1 Axes>"
      ]
     },
     "metadata": {
      "needs_background": "light"
     },
     "output_type": "display_data"
    },
    {
     "name": "stdout",
     "output_type": "stream",
     "text": [
      "********************************************************************************\n"
     ]
    },
    {
     "data": {
      "image/png": "[encoded data removed]",
      "text/plain": [
       "<Figure size 432x288 with 1 Axes>"
      ]
     },
     "metadata": {
      "needs_background": "light"
     },
     "output_type": "display_data"
    },
    {
     "name": "stdout",
     "output_type": "stream",
     "text": [
      "********************************************************************************\n",
      "Skewness :  0.6216344855169127\n",
      "################################################################################\n",
      "Column_Name : Chloramines\n"
     ]
    },
    {
     "data": {
      "image/png": "[encoded data removed]",
      "text/plain": [
       "<Figure size 432x288 with 1 Axes>"
      ]
     },
     "metadata": {
      "needs_background": "light"
     },
     "output_type": "display_data"
    },
    {
     "name": "stdout",
     "output_type": "stream",
     "text": [
      "********************************************************************************\n"
     ]
    },
    {
     "data": {
      "image/png": "[encoded data removed]",
      "text/plain": [
       "<Figure size 432x288 with 1 Axes>"
      ]
     },
     "metadata": {
      "needs_background": "light"
     },
     "output_type": "display_data"
    },
    {
     "name": "stdout",
     "output_type": "stream",
     "text": [
      "********************************************************************************\n",
      "Skewness :  -0.01209844012438221\n",
      "################################################################################\n",
      "Column_Name : Sulfate\n"
     ]
    },
    {
     "data": {
      "image/png": "[encoded data removed]",
      "text/plain": [
       "<Figure size 432x288 with 1 Axes>"
      ]
     },
     "metadata": {
      "needs_background": "light"
     },
     "output_type": "display_data"
    },
    {
     "name": "stdout",
     "output_type": "stream",
     "text": [
      "********************************************************************************\n"
     ]
    },
    {
     "data": {
      "image/png": "[encoded data removed]",
      "text/plain": [
       "<Figure size 432x288 with 1 Axes>"
      ]
     },
     "metadata": {
      "needs_background": "light"
     },
     "output_type": "display_data"
    },
    {
     "name": "stdout",
     "output_type": "stream",
     "text": [
      "********************************************************************************\n",
      "Skewness :  -0.03594662160706187\n",
      "################################################################################\n",
      "Column_Name : Conductivity\n"
     ]
    },
    {
     "data": {
      "image/png": "[encoded data removed]",
      "text/plain": [
       "<Figure size 432x288 with 1 Axes>"
      ]
     },
     "metadata": {
      "needs_background": "light"
     },
     "output_type": "display_data"
    },
    {
     "name": "stdout",
     "output_type": "stream",
     "text": [
      "********************************************************************************\n"
     ]
    },
    {
     "data": {
      "image/png": "[encoded data removed]",
      "text/plain": [
       "<Figure size 432x288 with 1 Axes>"
      ]
     },
     "metadata": {
      "needs_background": "light"
     },
     "output_type": "display_data"
    },
    {
     "name": "stdout",
     "output_type": "stream",
     "text": [
      "********************************************************************************\n",
      "Skewness :  0.2644902239264119\n",
      "################################################################################\n",
      "Column_Name : Organic_carbon\n"
     ]
    },
    {
     "data": {
      "image/png": "[encoded data removed]",
      "text/plain": [
       "<Figure size 432x288 with 1 Axes>"
      ]
     },
     "metadata": {
      "needs_background": "light"
     },
     "output_type": "display_data"
    },
    {
     "name": "stdout",
     "output_type": "stream",
     "text": [
      "********************************************************************************\n"
     ]
    },
    {
     "data": {
      "image/png": "[encoded data removed]",
      "text/plain": [
       "<Figure size 432x288 with 1 Axes>"
      ]
     },
     "metadata": {
      "needs_background": "light"
     },
     "output_type": "display_data"
    },
    {
     "name": "stdout",
     "output_type": "stream",
     "text": [
      "********************************************************************************\n",
      "Skewness :  0.025532582090242492\n",
      "################################################################################\n",
      "Column_Name : Trihalomethanes\n"
     ]
    },
    {
     "data": {
      "image/png": "[encoded data removed]",
      "text/plain": [
       "<Figure size 432x288 with 1 Axes>"
      ]
     },
     "metadata": {
      "needs_background": "light"
     },
     "output_type": "display_data"
    },
    {
     "name": "stdout",
     "output_type": "stream",
     "text": [
      "********************************************************************************\n"
     ]
    },
    {
     "data": {
      "image/png": "[encoded data removed]",
      "text/plain": [
       "<Figure size 432x288 with 1 Axes>"
      ]
     },
     "metadata": {
      "needs_background": "light"
     },
     "output_type": "display_data"
    },
    {
     "name": "stdout",
     "output_type": "stream",
     "text": [
      "********************************************************************************\n",
      "Skewness :  -0.08303067407901553\n",
      "################################################################################\n",
      "Column_Name : Turbidity\n"
     ]
    },
    {
     "data": {
      "image/png": "[encoded data removed]",
      "text/plain": [
       "<Figure size 432x288 with 1 Axes>"
      ]
     },
     "metadata": {
      "needs_background": "light"
     },
     "output_type": "display_data"
    },
    {
     "name": "stdout",
     "output_type": "stream",
     "text": [
      "********************************************************************************\n"
     ]
    },
    {
     "data": {
      "image/png": "[encoded data removed]",
      "text/plain": [
       "<Figure size 432x288 with 1 Axes>"
      ]
     },
     "metadata": {
      "needs_background": "light"
     },
     "output_type": "display_data"
    },
    {
     "name": "stdout",
     "output_type": "stream",
     "text": [
      "********************************************************************************\n",
      "Skewness :  -0.007816642377392604\n",
      "################################################################################\n"
     ]
    }
   ],
   "source": [
    "for i in x_train.columns:\n",
    "    print(f\"Column_Name : {i}\")\n",
    "    sns.boxplot(x = df[f\"{i}\"] )\n",
    "    plt.show()\n",
    "    print(\"*\"*80)\n",
    "    sns.kdeplot(x = df[f\"{i}\"])\n",
    "    plt.show()\n",
    "    print(\"*\"*80)\n",
    "    print(\"Skewness : \",df[f\"{i}\"].skew())\n",
    "    print(\"#\"*80)   "
   ]
  },
  {
   "cell_type": "code",
   "execution_count": 30,
   "id": "47e3a36d",
   "metadata": {},
   "outputs": [
    {
     "data": {
      "text/plain": [
       "Index(['ph', 'Hardness', 'Solids', 'Chloramines', 'Sulfate', 'Conductivity',\n",
       "       'Organic_carbon', 'Trihalomethanes', 'Turbidity'],\n",
       "      dtype='object')"
      ]
     },
     "execution_count": 30,
     "metadata": {},
     "output_type": "execute_result"
    }
   ],
   "source": [
    "x_train.columns"
   ]
  },
  {
   "cell_type": "code",
   "execution_count": 31,
   "id": "8b0a929c",
   "metadata": {},
   "outputs": [],
   "source": [
    "col1 = ['ph', 'Hardness', 'Chloramines', 'Sulfate', 'Conductivity',\n",
    "       'Organic_carbon', 'Trihalomethanes', 'Turbidity']"
   ]
  },
  {
   "cell_type": "markdown",
   "id": "acfce1b4",
   "metadata": {},
   "source": [
    "## IQR METHOD  >> SOLIDS"
   ]
  },
  {
   "cell_type": "code",
   "execution_count": 32,
   "id": "4caa80b5",
   "metadata": {},
   "outputs": [],
   "source": [
    "q1 = x_train[\"Solids\"].quantile(0.25)\n",
    "q3 = x_train[\"Solids\"].quantile(0.75)\n",
    "iqr = q3 - q1\n",
    "lower_tail = q1 - (1.5*iqr)\n",
    "upper_tail = q3 + (1.5*iqr)\n",
    "x_train[\"Solids\"]=np.where(x_train[\"Solids\"]>upper_tail,upper_tail,x_train[\"Solids\"])"
   ]
  },
  {
   "cell_type": "code",
   "execution_count": 33,
   "id": "11ea6a25",
   "metadata": {},
   "outputs": [
    {
     "data": {
      "text/plain": [
       "<AxesSubplot:xlabel='Solids'>"
      ]
     },
     "execution_count": 33,
     "metadata": {},
     "output_type": "execute_result"
    },
    {
     "data": {
      "image/png": "[encoded data removed]",
      "text/plain": [
       "<Figure size 432x288 with 1 Axes>"
      ]
     },
     "metadata": {
      "needs_background": "light"
     },
     "output_type": "display_data"
    }
   ],
   "source": [
    "sns.boxplot(x = x_train[\"Solids\"])"
   ]
  },
  {
   "cell_type": "code",
   "execution_count": 34,
   "id": "f1202c1f",
   "metadata": {},
   "outputs": [
    {
     "data": {
      "text/plain": [
       "<AxesSubplot:>"
      ]
     },
     "execution_count": 34,
     "metadata": {},
     "output_type": "execute_result"
    },
    {
     "data": {
      "image/png": "[encoded data removed]",
      "text/plain": [
       "<Figure size 432x288 with 1 Axes>"
      ]
     },
     "metadata": {
      "needs_background": "light"
     },
     "output_type": "display_data"
    }
   ],
   "source": [
    "x_train.boxplot()"
   ]
  },
  {
   "cell_type": "code",
   "execution_count": 35,
   "id": "a6f0b1dd",
   "metadata": {},
   "outputs": [],
   "source": [
    "q1 = x_test[\"Solids\"].quantile(0.25)\n",
    "q3 = x_test[\"Solids\"].quantile(0.75)\n",
    "iqr = q3 - q1\n",
    "lower_tail = q1 - (1.5*iqr)\n",
    "upper_tail = q3 + (1.5*iqr)\n",
    "x_test[\"Solids\"]=np.where(x_test[\"Solids\"]>upper_tail,upper_tail,x_test[\"Solids\"])"
   ]
  },
  {
   "cell_type": "code",
   "execution_count": 36,
   "id": "9d2524b3",
   "metadata": {},
   "outputs": [
    {
     "data": {
      "text/plain": [
       "<AxesSubplot:>"
      ]
     },
     "execution_count": 36,
     "metadata": {},
     "output_type": "execute_result"
    },
    {
     "data": {
      "image/png": "[encoded data removed]",
      "text/plain": [
       "<Figure size 432x288 with 1 Axes>"
      ]
     },
     "metadata": {
      "needs_background": "light"
     },
     "output_type": "display_data"
    }
   ],
   "source": [
    "x_test.boxplot()"
   ]
  },
  {
   "cell_type": "code",
   "execution_count": 37,
   "id": "1af68c6e",
   "metadata": {},
   "outputs": [
    {
     "data": {
      "text/plain": [
       "<AxesSubplot:xlabel='Potability', ylabel='count'>"
      ]
     },
     "execution_count": 37,
     "metadata": {},
     "output_type": "execute_result"
    },
    {
     "data": {
      "image/png": "[encoded data removed]",
      "text/plain": [
       "<Figure size 432x288 with 1 Axes>"
      ]
     },
     "metadata": {
      "needs_background": "light"
     },
     "output_type": "display_data"
    }
   ],
   "source": [
    "sns.countplot(x = y_train)"
   ]
  },
  {
   "cell_type": "code",
   "execution_count": 38,
   "id": "85c2322d",
   "metadata": {},
   "outputs": [
    {
     "data": {
      "text/plain": [
       "<AxesSubplot:xlabel='Potability', ylabel='count'>"
      ]
     },
     "execution_count": 38,
     "metadata": {},
     "output_type": "execute_result"
    },
    {
     "data": {
      "image/png": "[encoded data removed]",
      "text/plain": [
       "<Figure size 432x288 with 1 Axes>"
      ]
     },
     "metadata": {
      "needs_background": "light"
     },
     "output_type": "display_data"
    }
   ],
   "source": [
    "sns.countplot(x = y_test)"
   ]
  },
  {
   "cell_type": "code",
   "execution_count": 39,
   "id": "0bff0855",
   "metadata": {},
   "outputs": [
    {
     "data": {
      "text/plain": [
       "0    1598\n",
       "1    1022\n",
       "Name: Potability, dtype: int64"
      ]
     },
     "execution_count": 39,
     "metadata": {},
     "output_type": "execute_result"
    }
   ],
   "source": [
    "y_train.value_counts()"
   ]
  },
  {
   "cell_type": "code",
   "execution_count": 40,
   "id": "30ada240",
   "metadata": {},
   "outputs": [
    {
     "data": {
      "text/plain": [
       "0    400\n",
       "1    256\n",
       "Name: Potability, dtype: int64"
      ]
     },
     "execution_count": 40,
     "metadata": {},
     "output_type": "execute_result"
    }
   ],
   "source": [
    "y_test.value_counts()"
   ]
  },
  {
   "cell_type": "markdown",
   "id": "8a2157b9",
   "metadata": {},
   "source": [
    "## Oversampling"
   ]
  },
  {
   "cell_type": "code",
   "execution_count": 41,
   "id": "01081058",
   "metadata": {},
   "outputs": [
    {
     "data": {
      "text/plain": [
       "1    1598\n",
       "0    1598\n",
       "Name: Potability, dtype: int64"
      ]
     },
     "execution_count": 41,
     "metadata": {},
     "output_type": "execute_result"
    }
   ],
   "source": [
    "over_sampler = RandomOverSampler(sampling_strategy=1)\n",
    "x_train_samples, y_train_samples = over_sampler.fit_resample(x_train, y_train)\n",
    "y_train_samples.value_counts()"
   ]
  },
  {
   "cell_type": "code",
   "execution_count": 42,
   "id": "406849f0",
   "metadata": {},
   "outputs": [
    {
     "data": {
      "text/plain": [
       "0    400\n",
       "1    400\n",
       "Name: Potability, dtype: int64"
      ]
     },
     "execution_count": 42,
     "metadata": {},
     "output_type": "execute_result"
    }
   ],
   "source": [
    "over_samples = RandomOverSampler(sampling_strategy=1)\n",
    "x_test_samples, y_test_samples = over_samples.fit_resample(x_test, y_test)\n",
    "y_test_samples.value_counts()"
   ]
  },
  {
   "cell_type": "code",
   "execution_count": 43,
   "id": "bf397925",
   "metadata": {},
   "outputs": [
    {
     "data": {
      "text/plain": [
       "0       1\n",
       "1       1\n",
       "2       0\n",
       "3       0\n",
       "4       0\n",
       "       ..\n",
       "3191    1\n",
       "3192    1\n",
       "3193    1\n",
       "3194    1\n",
       "3195    1\n",
       "Name: Potability, Length: 3196, dtype: int64"
      ]
     },
     "execution_count": 43,
     "metadata": {},
     "output_type": "execute_result"
    }
   ],
   "source": [
    "y_train_samples"
   ]
  },
  {
   "cell_type": "code",
   "execution_count": 44,
   "id": "474b7fdb",
   "metadata": {},
   "outputs": [
    {
     "data": {
      "text/plain": [
       "0      0\n",
       "1      0\n",
       "2      0\n",
       "3      0\n",
       "4      0\n",
       "      ..\n",
       "795    1\n",
       "796    1\n",
       "797    1\n",
       "798    1\n",
       "799    1\n",
       "Name: Potability, Length: 800, dtype: int64"
      ]
     },
     "execution_count": 44,
     "metadata": {},
     "output_type": "execute_result"
    }
   ],
   "source": [
    "y_test_samples"
   ]
  },
  {
   "cell_type": "code",
   "execution_count": 45,
   "id": "8f6ba6aa",
   "metadata": {},
   "outputs": [
    {
     "data": {
      "text/html": [
       "<div>\n",
       "<style scoped>\n",
       "    .dataframe tbody tr th:only-of-type {\n",
       "        vertical-align: middle;\n",
       "    }\n",
       "\n",
       "    .dataframe tbody tr th {\n",
       "        vertical-align: top;\n",
       "    }\n",
       "\n",
       "    .dataframe thead th {\n",
       "        text-align: right;\n",
       "    }\n",
       "</style>\n",
       "<table border=\"1\" class=\"dataframe\">\n",
       "  <thead>\n",
       "    <tr style=\"text-align: right;\">\n",
       "      <th></th>\n",
       "      <th>ph</th>\n",
       "      <th>Hardness</th>\n",
       "      <th>Solids</th>\n",
       "      <th>Chloramines</th>\n",
       "      <th>Sulfate</th>\n",
       "      <th>Conductivity</th>\n",
       "      <th>Organic_carbon</th>\n",
       "      <th>Trihalomethanes</th>\n",
       "      <th>Turbidity</th>\n",
       "    </tr>\n",
       "  </thead>\n",
       "  <tbody>\n",
       "    <tr>\n",
       "      <th>0</th>\n",
       "      <td>0.477254</td>\n",
       "      <td>0.693094</td>\n",
       "      <td>0.423787</td>\n",
       "      <td>0.465946</td>\n",
       "      <td>0.511992</td>\n",
       "      <td>0.252759</td>\n",
       "      <td>0.157402</td>\n",
       "      <td>0.327319</td>\n",
       "      <td>0.284883</td>\n",
       "    </tr>\n",
       "    <tr>\n",
       "      <th>1</th>\n",
       "      <td>0.438553</td>\n",
       "      <td>0.438940</td>\n",
       "      <td>0.387041</td>\n",
       "      <td>0.715662</td>\n",
       "      <td>0.536959</td>\n",
       "      <td>0.546718</td>\n",
       "      <td>0.616184</td>\n",
       "      <td>0.449724</td>\n",
       "      <td>0.452112</td>\n",
       "    </tr>\n",
       "    <tr>\n",
       "      <th>2</th>\n",
       "      <td>0.588792</td>\n",
       "      <td>0.606115</td>\n",
       "      <td>0.478442</td>\n",
       "      <td>0.623337</td>\n",
       "      <td>0.594752</td>\n",
       "      <td>0.582322</td>\n",
       "      <td>0.498571</td>\n",
       "      <td>0.707107</td>\n",
       "      <td>0.397186</td>\n",
       "    </tr>\n",
       "    <tr>\n",
       "      <th>3</th>\n",
       "      <td>0.561792</td>\n",
       "      <td>0.589815</td>\n",
       "      <td>0.229692</td>\n",
       "      <td>0.490090</td>\n",
       "      <td>0.571263</td>\n",
       "      <td>0.387992</td>\n",
       "      <td>0.355542</td>\n",
       "      <td>0.569475</td>\n",
       "      <td>0.632450</td>\n",
       "    </tr>\n",
       "    <tr>\n",
       "      <th>4</th>\n",
       "      <td>0.511238</td>\n",
       "      <td>0.604218</td>\n",
       "      <td>0.384158</td>\n",
       "      <td>0.279637</td>\n",
       "      <td>0.610073</td>\n",
       "      <td>0.569049</td>\n",
       "      <td>0.462809</td>\n",
       "      <td>0.471300</td>\n",
       "      <td>0.705922</td>\n",
       "    </tr>\n",
       "    <tr>\n",
       "      <th>...</th>\n",
       "      <td>...</td>\n",
       "      <td>...</td>\n",
       "      <td>...</td>\n",
       "      <td>...</td>\n",
       "      <td>...</td>\n",
       "      <td>...</td>\n",
       "      <td>...</td>\n",
       "      <td>...</td>\n",
       "      <td>...</td>\n",
       "    </tr>\n",
       "    <tr>\n",
       "      <th>795</th>\n",
       "      <td>0.581265</td>\n",
       "      <td>0.476200</td>\n",
       "      <td>0.549464</td>\n",
       "      <td>0.684923</td>\n",
       "      <td>0.594296</td>\n",
       "      <td>0.523888</td>\n",
       "      <td>0.330209</td>\n",
       "      <td>0.757436</td>\n",
       "      <td>0.244634</td>\n",
       "    </tr>\n",
       "    <tr>\n",
       "      <th>796</th>\n",
       "      <td>0.483974</td>\n",
       "      <td>0.387899</td>\n",
       "      <td>0.249637</td>\n",
       "      <td>0.448699</td>\n",
       "      <td>0.607993</td>\n",
       "      <td>0.728319</td>\n",
       "      <td>0.532706</td>\n",
       "      <td>0.413974</td>\n",
       "      <td>0.296378</td>\n",
       "    </tr>\n",
       "    <tr>\n",
       "      <th>797</th>\n",
       "      <td>0.472055</td>\n",
       "      <td>0.638684</td>\n",
       "      <td>0.325311</td>\n",
       "      <td>0.596926</td>\n",
       "      <td>0.653993</td>\n",
       "      <td>0.517363</td>\n",
       "      <td>0.274237</td>\n",
       "      <td>0.353723</td>\n",
       "      <td>0.541595</td>\n",
       "    </tr>\n",
       "    <tr>\n",
       "      <th>798</th>\n",
       "      <td>0.476000</td>\n",
       "      <td>0.551908</td>\n",
       "      <td>0.255836</td>\n",
       "      <td>0.384015</td>\n",
       "      <td>0.618084</td>\n",
       "      <td>0.290053</td>\n",
       "      <td>0.485518</td>\n",
       "      <td>0.457424</td>\n",
       "      <td>0.147046</td>\n",
       "    </tr>\n",
       "    <tr>\n",
       "      <th>799</th>\n",
       "      <td>0.467110</td>\n",
       "      <td>0.609424</td>\n",
       "      <td>0.470540</td>\n",
       "      <td>0.521594</td>\n",
       "      <td>0.520794</td>\n",
       "      <td>0.427727</td>\n",
       "      <td>0.567454</td>\n",
       "      <td>0.404130</td>\n",
       "      <td>0.496578</td>\n",
       "    </tr>\n",
       "  </tbody>\n",
       "</table>\n",
       "<p>800 rows × 9 columns</p>\n",
       "</div>"
      ],
      "text/plain": [
       "           ph  Hardness    Solids  Chloramines   Sulfate  Conductivity  \\\n",
       "0    0.477254  0.693094  0.423787     0.465946  0.511992      0.252759   \n",
       "1    0.438553  0.438940  0.387041     0.715662  0.536959      0.546718   \n",
       "2    0.588792  0.606115  0.478442     0.623337  0.594752      0.582322   \n",
       "3    0.561792  0.589815  0.229692     0.490090  0.571263      0.387992   \n",
       "4    0.511238  0.604218  0.384158     0.279637  0.610073      0.569049   \n",
       "..        ...       ...       ...          ...       ...           ...   \n",
       "795  0.581265  0.476200  0.549464     0.684923  0.594296      0.523888   \n",
       "796  0.483974  0.387899  0.249637     0.448699  0.607993      0.728319   \n",
       "797  0.472055  0.638684  0.325311     0.596926  0.653993      0.517363   \n",
       "798  0.476000  0.551908  0.255836     0.384015  0.618084      0.290053   \n",
       "799  0.467110  0.609424  0.470540     0.521594  0.520794      0.427727   \n",
       "\n",
       "     Organic_carbon  Trihalomethanes  Turbidity  \n",
       "0          0.157402         0.327319   0.284883  \n",
       "1          0.616184         0.449724   0.452112  \n",
       "2          0.498571         0.707107   0.397186  \n",
       "3          0.355542         0.569475   0.632450  \n",
       "4          0.462809         0.471300   0.705922  \n",
       "..              ...              ...        ...  \n",
       "795        0.330209         0.757436   0.244634  \n",
       "796        0.532706         0.413974   0.296378  \n",
       "797        0.274237         0.353723   0.541595  \n",
       "798        0.485518         0.457424   0.147046  \n",
       "799        0.567454         0.404130   0.496578  \n",
       "\n",
       "[800 rows x 9 columns]"
      ]
     },
     "execution_count": 45,
     "metadata": {},
     "output_type": "execute_result"
    }
   ],
   "source": [
    "x_test_samples"
   ]
  },
  {
   "cell_type": "markdown",
   "id": "fdcdcf7d",
   "metadata": {},
   "source": [
    "## Model Instantiation"
   ]
  },
  {
   "cell_type": "markdown",
   "id": "5f3831db",
   "metadata": {},
   "source": [
    "### 1.Logistic Regression"
   ]
  },
  {
   "cell_type": "code",
   "execution_count": 46,
   "id": "9423ef45",
   "metadata": {},
   "outputs": [],
   "source": [
    "log_reg  = LogisticRegression()"
   ]
  },
  {
   "cell_type": "code",
   "execution_count": 47,
   "id": "1a22e7c1",
   "metadata": {},
   "outputs": [
    {
     "data": {
      "text/html": [
       "<style>#sk-container-id-1 {color: black;background-color: white;}#sk-container-id-1 pre{padding: 0;}#sk-container-id-1 div.sk-toggleable {background-color: white;}#sk-container-id-1 label.sk-toggleable__label {cursor: pointer;display: block;width: 100%;margin-bottom: 0;padding: 0.3em;box-sizing: border-box;text-align: center;}#sk-container-id-1 label.sk-toggleable__label-arrow:before {content: \"▸\";float: left;margin-right: 0.25em;color: #696969;}#sk-container-id-1 label.sk-toggleable__label-arrow:hover:before {color: black;}#sk-container-id-1 div.sk-estimator:hover label.sk-toggleable__label-arrow:before {color: black;}#sk-container-id-1 div.sk-toggleable__content {max-height: 0;max-width: 0;overflow: hidden;text-align: left;background-color: #f0f8ff;}#sk-container-id-1 div.sk-toggleable__content pre {margin: 0.2em;color: black;border-radius: 0.25em;background-color: #f0f8ff;}#sk-container-id-1 input.sk-toggleable__control:checked~div.sk-toggleable__content {max-height: 200px;max-width: 100%;overflow: auto;}#sk-container-id-1 input.sk-toggleable__control:checked~label.sk-toggleable__label-arrow:before {content: \"▾\";}#sk-container-id-1 div.sk-estimator input.sk-toggleable__control:checked~label.sk-toggleable__label {background-color: #d4ebff;}#sk-container-id-1 div.sk-label input.sk-toggleable__control:checked~label.sk-toggleable__label {background-color: #d4ebff;}#sk-container-id-1 input.sk-hidden--visually {border: 0;clip: rect(1px 1px 1px 1px);clip: rect(1px, 1px, 1px, 1px);height: 1px;margin: -1px;overflow: hidden;padding: 0;position: absolute;width: 1px;}#sk-container-id-1 div.sk-estimator {font-family: monospace;background-color: #f0f8ff;border: 1px dotted black;border-radius: 0.25em;box-sizing: border-box;margin-bottom: 0.5em;}#sk-container-id-1 div.sk-estimator:hover {background-color: #d4ebff;}#sk-container-id-1 div.sk-parallel-item::after {content: \"\";width: 100%;border-bottom: 1px solid gray;flex-grow: 1;}#sk-container-id-1 div.sk-label:hover label.sk-toggleable__label {background-color: #d4ebff;}#sk-container-id-1 div.sk-serial::before {content: \"\";position: absolute;border-left: 1px solid gray;box-sizing: border-box;top: 0;bottom: 0;left: 50%;z-index: 0;}#sk-container-id-1 div.sk-serial {display: flex;flex-direction: column;align-items: center;background-color: white;padding-right: 0.2em;padding-left: 0.2em;position: relative;}#sk-container-id-1 div.sk-item {position: relative;z-index: 1;}#sk-container-id-1 div.sk-parallel {display: flex;align-items: stretch;justify-content: center;background-color: white;position: relative;}#sk-container-id-1 div.sk-item::before, #sk-container-id-1 div.sk-parallel-item::before {content: \"\";position: absolute;border-left: 1px solid gray;box-sizing: border-box;top: 0;bottom: 0;left: 50%;z-index: -1;}#sk-container-id-1 div.sk-parallel-item {display: flex;flex-direction: column;z-index: 1;position: relative;background-color: white;}#sk-container-id-1 div.sk-parallel-item:first-child::after {align-self: flex-end;width: 50%;}#sk-container-id-1 div.sk-parallel-item:last-child::after {align-self: flex-start;width: 50%;}#sk-container-id-1 div.sk-parallel-item:only-child::after {width: 0;}#sk-container-id-1 div.sk-dashed-wrapped {border: 1px dashed gray;margin: 0 0.4em 0.5em 0.4em;box-sizing: border-box;padding-bottom: 0.4em;background-color: white;}#sk-container-id-1 div.sk-label label {font-family: monospace;font-weight: bold;display: inline-block;line-height: 1.2em;}#sk-container-id-1 div.sk-label-container {text-align: center;}#sk-container-id-1 div.sk-container {/* jupyter's `normalize.less` sets `[hidden] { display: none; }` but bootstrap.min.css set `[hidden] { display: none !important; }` so we also need the `!important` here to be able to override the default hidden behavior on the sphinx rendered scikit-learn.org. See: https://github.com/scikit-learn/scikit-learn/issues/21755 */display: inline-block !important;position: relative;}#sk-container-id-1 div.sk-text-repr-fallback {display: none;}</style><div id=\"sk-container-id-1\" class=\"sk-top-container\"><div class=\"sk-text-repr-fallback\"><pre>LogisticRegression()</pre><b>In a Jupyter environment, please rerun this cell to show the HTML representation or trust the notebook. <br />On GitHub, the HTML representation is unable to render, please try loading this page with nbviewer.org.</b></div><div class=\"sk-container\" hidden><div class=\"sk-item\"><div class=\"sk-estimator sk-toggleable\"><input class=\"sk-toggleable__control sk-hidden--visually\" id=\"sk-estimator-id-1\" type=\"checkbox\" checked><label for=\"sk-estimator-id-1\" class=\"sk-toggleable__label sk-toggleable__label-arrow\">LogisticRegression</label><div class=\"sk-toggleable__content\"><pre>LogisticRegression()</pre></div></div></div></div></div>"
      ],
      "text/plain": [
       "LogisticRegression()"
      ]
     },
     "execution_count": 47,
     "metadata": {},
     "output_type": "execute_result"
    }
   ],
   "source": [
    "log_reg.fit(x_train_samples,y_train_samples)"
   ]
  },
  {
   "cell_type": "markdown",
   "id": "2a410cba",
   "metadata": {},
   "source": [
    "### Train Evaluation After Over-Sampling"
   ]
  },
  {
   "cell_type": "code",
   "execution_count": 48,
   "id": "a7dbf7fb",
   "metadata": {},
   "outputs": [],
   "source": [
    "y_pred_train = log_reg.predict(x_train_samples)"
   ]
  },
  {
   "cell_type": "code",
   "execution_count": 49,
   "id": "aea2d694",
   "metadata": {},
   "outputs": [
    {
     "name": "stdout",
     "output_type": "stream",
     "text": [
      "Accuracy Score : 0.5247183979974969\n",
      "Confusion Matrix :\n",
      " [[851 747]\n",
      " [772 826]]\n",
      "Classification Report :\n",
      "               precision    recall  f1-score   support\n",
      "\n",
      "           0       0.52      0.53      0.53      1598\n",
      "           1       0.53      0.52      0.52      1598\n",
      "\n",
      "    accuracy                           0.52      3196\n",
      "   macro avg       0.52      0.52      0.52      3196\n",
      "weighted avg       0.52      0.52      0.52      3196\n",
      "\n"
     ]
    }
   ],
   "source": [
    "acc = accuracy_score(y_train_samples,y_pred_train)\n",
    "print(\"Accuracy Score :\",acc)\n",
    "\n",
    "cnf_matrix = confusion_matrix(y_train_samples,y_pred_train)\n",
    "print(\"Confusion Matrix :\\n\",cnf_matrix)\n",
    "\n",
    "clf_report = classification_report(y_train_samples,y_pred_train)\n",
    "print(\"Classification Report :\\n\",clf_report)"
   ]
  },
  {
   "cell_type": "code",
   "execution_count": null,
   "id": "c16f53bc",
   "metadata": {},
   "outputs": [],
   "source": []
  },
  {
   "cell_type": "markdown",
   "id": "01d82193",
   "metadata": {},
   "source": [
    "### Test Evaluation After Over-Sampling"
   ]
  },
  {
   "cell_type": "code",
   "execution_count": 50,
   "id": "fbf824ab",
   "metadata": {},
   "outputs": [],
   "source": [
    "y_pred_test = log_reg.predict(x_test_samples)"
   ]
  },
  {
   "cell_type": "code",
   "execution_count": 51,
   "id": "fb6b427d",
   "metadata": {},
   "outputs": [
    {
     "name": "stdout",
     "output_type": "stream",
     "text": [
      "Accuracy Score : 0.53375\n",
      "Confusion Matrix :\n",
      " [[209 191]\n",
      " [182 218]]\n",
      "Classification Report :\n",
      "               precision    recall  f1-score   support\n",
      "\n",
      "           0       0.53      0.52      0.53       400\n",
      "           1       0.53      0.55      0.54       400\n",
      "\n",
      "    accuracy                           0.53       800\n",
      "   macro avg       0.53      0.53      0.53       800\n",
      "weighted avg       0.53      0.53      0.53       800\n",
      "\n"
     ]
    }
   ],
   "source": [
    "acc = accuracy_score(y_test_samples,y_pred_test)\n",
    "print(\"Accuracy Score :\",acc)\n",
    "\n",
    "cnf_matrix = confusion_matrix(y_test_samples,y_pred_test)\n",
    "print(\"Confusion Matrix :\\n\",cnf_matrix)\n",
    "\n",
    "clf_report = classification_report(y_test_samples,y_pred_test)\n",
    "print(\"Classification Report :\\n\",clf_report)"
   ]
  },
  {
   "cell_type": "code",
   "execution_count": 52,
   "id": "a00bb588",
   "metadata": {},
   "outputs": [
    {
     "data": {
      "text/html": [
       "<div>\n",
       "<style scoped>\n",
       "    .dataframe tbody tr th:only-of-type {\n",
       "        vertical-align: middle;\n",
       "    }\n",
       "\n",
       "    .dataframe tbody tr th {\n",
       "        vertical-align: top;\n",
       "    }\n",
       "\n",
       "    .dataframe thead th {\n",
       "        text-align: right;\n",
       "    }\n",
       "</style>\n",
       "<table border=\"1\" class=\"dataframe\">\n",
       "  <thead>\n",
       "    <tr style=\"text-align: right;\">\n",
       "      <th></th>\n",
       "      <th>ph</th>\n",
       "      <th>Hardness</th>\n",
       "      <th>Solids</th>\n",
       "      <th>Chloramines</th>\n",
       "      <th>Sulfate</th>\n",
       "      <th>Conductivity</th>\n",
       "      <th>Organic_carbon</th>\n",
       "      <th>Trihalomethanes</th>\n",
       "      <th>Turbidity</th>\n",
       "    </tr>\n",
       "  </thead>\n",
       "  <tbody>\n",
       "    <tr>\n",
       "      <th>8</th>\n",
       "      <td>0.491784</td>\n",
       "      <td>0.330108</td>\n",
       "      <td>0.239257</td>\n",
       "      <td>0.730680</td>\n",
       "      <td>0.540109</td>\n",
       "      <td>0.184377</td>\n",
       "      <td>0.410068</td>\n",
       "      <td>0.400462</td>\n",
       "      <td>0.592611</td>\n",
       "    </tr>\n",
       "    <tr>\n",
       "      <th>9</th>\n",
       "      <td>0.759494</td>\n",
       "      <td>0.547517</td>\n",
       "      <td>0.207496</td>\n",
       "      <td>0.530998</td>\n",
       "      <td>0.550018</td>\n",
       "      <td>0.595504</td>\n",
       "      <td>0.516142</td>\n",
       "      <td>0.549110</td>\n",
       "      <td>0.429657</td>\n",
       "    </tr>\n",
       "  </tbody>\n",
       "</table>\n",
       "</div>"
      ],
      "text/plain": [
       "         ph  Hardness    Solids  Chloramines   Sulfate  Conductivity  \\\n",
       "8  0.491784  0.330108  0.239257     0.730680  0.540109      0.184377   \n",
       "9  0.759494  0.547517  0.207496     0.530998  0.550018      0.595504   \n",
       "\n",
       "   Organic_carbon  Trihalomethanes  Turbidity  \n",
       "8        0.410068         0.400462   0.592611  \n",
       "9        0.516142         0.549110   0.429657  "
      ]
     },
     "execution_count": 52,
     "metadata": {},
     "output_type": "execute_result"
    }
   ],
   "source": [
    "x_test_samples.loc[8:9]"
   ]
  },
  {
   "cell_type": "code",
   "execution_count": 53,
   "id": "0ca6c4ae",
   "metadata": {},
   "outputs": [
    {
     "data": {
      "text/plain": [
       "array([1, 1, 0, 0, 0, 0, 0, 0, 1, 0, 1, 1, 1, 1, 0, 0, 0, 0, 0, 0, 1, 0,\n",
       "       1, 0, 0, 0, 1, 1, 1, 1, 0, 1, 0, 0, 0, 1, 1, 1, 0, 1, 1, 0, 0, 0,\n",
       "       0, 0, 0, 1, 0, 1, 1, 0, 0, 0, 1, 0, 1, 1, 0, 1, 0, 1, 1, 0, 0, 1,\n",
       "       0, 1, 1, 1, 0, 0, 1, 0, 1, 0, 0, 0, 1, 1, 0, 0, 0, 0, 0, 0, 1, 0,\n",
       "       0, 0, 0, 0, 0, 1, 1, 1, 1, 1, 1, 1], dtype=int64)"
      ]
     },
     "execution_count": 53,
     "metadata": {},
     "output_type": "execute_result"
    }
   ],
   "source": [
    "y_pred_test[0:100]"
   ]
  },
  {
   "cell_type": "code",
   "execution_count": 54,
   "id": "d61a3dd9",
   "metadata": {},
   "outputs": [
    {
     "data": {
      "text/plain": [
       "(array([  2,   3,   4,   5,   6,   7,   9,  14,  15,  16,  17,  18,  19,\n",
       "         21,  23,  24,  25,  30,  32,  33,  34,  38,  41,  42,  43,  44,\n",
       "         45,  46,  48,  51,  52,  53,  55,  58,  60,  63,  64,  66,  70,\n",
       "         71,  73,  75,  76,  77,  80,  81,  82,  83,  84,  85,  87,  88,\n",
       "         89,  90,  91,  92, 100, 104, 105, 106, 107, 111, 112, 115, 116,\n",
       "        121, 122, 123, 124, 125, 126, 127, 128, 129, 131, 136, 138, 142,\n",
       "        143, 145, 146, 148, 150, 151, 153, 156, 159, 160, 162, 163, 164,\n",
       "        167, 168, 169, 170, 171, 172, 173, 175, 179, 181, 183, 188, 189,\n",
       "        194, 196, 198, 199, 203, 205, 208, 209, 210, 213, 215, 216, 217,\n",
       "        218, 219, 222, 224, 225, 226, 227, 228, 229, 230, 231, 232, 236,\n",
       "        238, 239, 243, 247, 248, 252, 254, 257, 261, 262, 263, 268, 269,\n",
       "        273, 276, 278, 279, 280, 283, 285, 286, 287, 288, 290, 293, 296,\n",
       "        297, 300, 301, 302, 304, 306, 307, 308, 309, 312, 315, 316, 321,\n",
       "        323, 324, 327, 328, 329, 330, 332, 333, 334, 336, 339, 341, 342,\n",
       "        343, 344, 348, 352, 353, 354, 355, 357, 358, 359, 361, 363, 366,\n",
       "        367, 372, 376, 381, 383, 384, 386, 388, 390, 393, 399, 400, 402,\n",
       "        405, 409, 411, 413, 415, 417, 419, 420, 421, 423, 424, 425, 427,\n",
       "        430, 431, 433, 434, 437, 438, 439, 441, 442, 444, 446, 448, 449,\n",
       "        450, 453, 457, 459, 460, 461, 462, 464, 465, 467, 469, 470, 472,\n",
       "        476, 479, 480, 481, 482, 488, 489, 497, 499, 504, 505, 510, 514,\n",
       "        515, 516, 517, 520, 521, 523, 524, 527, 528, 531, 534, 537, 541,\n",
       "        544, 545, 546, 547, 548, 550, 551, 553, 556, 558, 560, 562, 564,\n",
       "        567, 570, 572, 574, 575, 576, 577, 580, 583, 584, 587, 590, 595,\n",
       "        597, 599, 603, 606, 608, 609, 610, 613, 615, 616, 618, 620, 621,\n",
       "        623, 626, 627, 630, 639, 641, 643, 645, 646, 648, 649, 652, 653,\n",
       "        654, 655, 660, 661, 662, 663, 664, 666, 668, 670, 674, 675, 678,\n",
       "        679, 682, 683, 684, 685, 686, 689, 692, 695, 697, 698, 702, 703,\n",
       "        705, 706, 708, 709, 710, 711, 713, 714, 716, 718, 719, 721, 722,\n",
       "        724, 725, 726, 730, 733, 735, 741, 745, 747, 750, 760, 761, 765,\n",
       "        767, 771, 774, 779, 780, 783, 784, 785, 787, 789, 796, 797, 798,\n",
       "        799], dtype=int64),)"
      ]
     },
     "execution_count": 54,
     "metadata": {},
     "output_type": "execute_result"
    }
   ],
   "source": [
    "np.where(y_pred_test==0)"
   ]
  },
  {
   "cell_type": "code",
   "execution_count": 55,
   "id": "d7faf38c",
   "metadata": {},
   "outputs": [
    {
     "data": {
      "text/plain": [
       "(array([  0,   1,   2,   3,   4,   5,   7,   9,  10,  11,  13,  17,  19,\n",
       "         21,  23,  24,  26,  28,  29,  30,  33,  34,  35,  36,  38,  39,\n",
       "         40,  42,  43,  44,  45,  46,  47,  51,  52,  55,  56,  57,  58,\n",
       "         59,  63,  64,  66,  72,  75,  76,  77,  78,  79,  80,  81,  84,\n",
       "         85,  86,  87,  88,  90,  95,  96,  97,  98,  99, 100, 102, 104,\n",
       "        105, 106, 107, 110, 111, 112, 113, 114, 117, 119, 120, 121, 123,\n",
       "        124, 125, 126, 127, 128, 129, 131, 132, 137, 138, 140, 141, 144,\n",
       "        146, 147, 148, 149, 150, 153, 154, 155, 156, 157, 159, 162, 163,\n",
       "        164, 165, 167, 169, 170, 172, 173, 176, 177, 180, 184, 189, 190,\n",
       "        191, 192, 193, 194, 196, 198, 199, 201, 202, 205, 209, 210, 211,\n",
       "        212, 213, 215, 216, 217, 218, 220, 222, 223, 224, 226, 228, 229,\n",
       "        230, 231, 232, 234, 235, 236, 237, 239, 240, 243, 244, 245, 246,\n",
       "        249, 251, 252, 255, 256, 257, 258, 259, 260, 262, 263, 264, 265,\n",
       "        267, 268, 269, 271, 272, 273, 274, 275, 277, 279, 281, 283, 286,\n",
       "        289, 290, 291, 294, 298, 299, 300, 301, 303, 304, 305, 306, 307,\n",
       "        308, 309, 313, 316, 318, 319, 320, 321, 323, 324, 325, 326, 327,\n",
       "        328, 330, 333, 335, 338, 339, 341, 342, 343, 344, 345, 350, 352,\n",
       "        354, 355, 358, 359, 360, 361, 363, 364, 365, 366, 367, 368, 370,\n",
       "        371, 372, 374, 375, 376, 377, 379, 380, 382, 383, 385, 387, 389,\n",
       "        395, 398, 401, 402, 403, 405, 406, 409, 411, 413, 416, 417, 418,\n",
       "        419, 420, 421, 424, 426, 427, 429, 430, 431, 432, 433, 434, 437,\n",
       "        440, 442, 443, 445, 448, 451, 453, 455, 456, 457, 461, 462, 463,\n",
       "        464, 466, 470, 471, 472, 473, 474, 475, 476, 477, 478, 479, 481,\n",
       "        482, 483, 484, 486, 488, 490, 492, 494, 495, 497, 499, 501, 502,\n",
       "        503, 505, 507, 508, 509, 510, 512, 513, 515, 516, 517, 518, 521,\n",
       "        523, 524, 531, 533, 535, 539, 540, 541, 542, 544, 546, 547, 548,\n",
       "        549, 551, 553, 555, 557, 559, 561, 562, 563, 564, 565, 567, 570,\n",
       "        571, 573, 574, 577, 579, 580, 582, 584, 585, 586, 590, 591, 592,\n",
       "        593, 596, 597, 598, 600, 601, 602, 603, 604, 606, 607, 608, 609,\n",
       "        610, 612, 614, 615, 616, 618, 619, 621, 623, 624, 625, 629, 630,\n",
       "        637, 638, 641, 642, 644, 649, 650, 652, 654, 655], dtype=int64),)"
      ]
     },
     "execution_count": 55,
     "metadata": {},
     "output_type": "execute_result"
    }
   ],
   "source": [
    "np.where(y_test_samples==0)"
   ]
  },
  {
   "cell_type": "code",
   "execution_count": 56,
   "id": "2e1d750a",
   "metadata": {},
   "outputs": [
    {
     "data": {
      "text/html": [
       "<style>#sk-container-id-2 {color: black;background-color: white;}#sk-container-id-2 pre{padding: 0;}#sk-container-id-2 div.sk-toggleable {background-color: white;}#sk-container-id-2 label.sk-toggleable__label {cursor: pointer;display: block;width: 100%;margin-bottom: 0;padding: 0.3em;box-sizing: border-box;text-align: center;}#sk-container-id-2 label.sk-toggleable__label-arrow:before {content: \"▸\";float: left;margin-right: 0.25em;color: #696969;}#sk-container-id-2 label.sk-toggleable__label-arrow:hover:before {color: black;}#sk-container-id-2 div.sk-estimator:hover label.sk-toggleable__label-arrow:before {color: black;}#sk-container-id-2 div.sk-toggleable__content {max-height: 0;max-width: 0;overflow: hidden;text-align: left;background-color: #f0f8ff;}#sk-container-id-2 div.sk-toggleable__content pre {margin: 0.2em;color: black;border-radius: 0.25em;background-color: #f0f8ff;}#sk-container-id-2 input.sk-toggleable__control:checked~div.sk-toggleable__content {max-height: 200px;max-width: 100%;overflow: auto;}#sk-container-id-2 input.sk-toggleable__control:checked~label.sk-toggleable__label-arrow:before {content: \"▾\";}#sk-container-id-2 div.sk-estimator input.sk-toggleable__control:checked~label.sk-toggleable__label {background-color: #d4ebff;}#sk-container-id-2 div.sk-label input.sk-toggleable__control:checked~label.sk-toggleable__label {background-color: #d4ebff;}#sk-container-id-2 input.sk-hidden--visually {border: 0;clip: rect(1px 1px 1px 1px);clip: rect(1px, 1px, 1px, 1px);height: 1px;margin: -1px;overflow: hidden;padding: 0;position: absolute;width: 1px;}#sk-container-id-2 div.sk-estimator {font-family: monospace;background-color: #f0f8ff;border: 1px dotted black;border-radius: 0.25em;box-sizing: border-box;margin-bottom: 0.5em;}#sk-container-id-2 div.sk-estimator:hover {background-color: #d4ebff;}#sk-container-id-2 div.sk-parallel-item::after {content: \"\";width: 100%;border-bottom: 1px solid gray;flex-grow: 1;}#sk-container-id-2 div.sk-label:hover label.sk-toggleable__label {background-color: #d4ebff;}#sk-container-id-2 div.sk-serial::before {content: \"\";position: absolute;border-left: 1px solid gray;box-sizing: border-box;top: 0;bottom: 0;left: 50%;z-index: 0;}#sk-container-id-2 div.sk-serial {display: flex;flex-direction: column;align-items: center;background-color: white;padding-right: 0.2em;padding-left: 0.2em;position: relative;}#sk-container-id-2 div.sk-item {position: relative;z-index: 1;}#sk-container-id-2 div.sk-parallel {display: flex;align-items: stretch;justify-content: center;background-color: white;position: relative;}#sk-container-id-2 div.sk-item::before, #sk-container-id-2 div.sk-parallel-item::before {content: \"\";position: absolute;border-left: 1px solid gray;box-sizing: border-box;top: 0;bottom: 0;left: 50%;z-index: -1;}#sk-container-id-2 div.sk-parallel-item {display: flex;flex-direction: column;z-index: 1;position: relative;background-color: white;}#sk-container-id-2 div.sk-parallel-item:first-child::after {align-self: flex-end;width: 50%;}#sk-container-id-2 div.sk-parallel-item:last-child::after {align-self: flex-start;width: 50%;}#sk-container-id-2 div.sk-parallel-item:only-child::after {width: 0;}#sk-container-id-2 div.sk-dashed-wrapped {border: 1px dashed gray;margin: 0 0.4em 0.5em 0.4em;box-sizing: border-box;padding-bottom: 0.4em;background-color: white;}#sk-container-id-2 div.sk-label label {font-family: monospace;font-weight: bold;display: inline-block;line-height: 1.2em;}#sk-container-id-2 div.sk-label-container {text-align: center;}#sk-container-id-2 div.sk-container {/* jupyter's `normalize.less` sets `[hidden] { display: none; }` but bootstrap.min.css set `[hidden] { display: none !important; }` so we also need the `!important` here to be able to override the default hidden behavior on the sphinx rendered scikit-learn.org. See: https://github.com/scikit-learn/scikit-learn/issues/21755 */display: inline-block !important;position: relative;}#sk-container-id-2 div.sk-text-repr-fallback {display: none;}</style><div id=\"sk-container-id-2\" class=\"sk-top-container\"><div class=\"sk-text-repr-fallback\"><pre>LogisticRegression()</pre><b>In a Jupyter environment, please rerun this cell to show the HTML representation or trust the notebook. <br />On GitHub, the HTML representation is unable to render, please try loading this page with nbviewer.org.</b></div><div class=\"sk-container\" hidden><div class=\"sk-item\"><div class=\"sk-estimator sk-toggleable\"><input class=\"sk-toggleable__control sk-hidden--visually\" id=\"sk-estimator-id-2\" type=\"checkbox\" checked><label for=\"sk-estimator-id-2\" class=\"sk-toggleable__label sk-toggleable__label-arrow\">LogisticRegression</label><div class=\"sk-toggleable__content\"><pre>LogisticRegression()</pre></div></div></div></div></div>"
      ],
      "text/plain": [
       "LogisticRegression()"
      ]
     },
     "execution_count": 56,
     "metadata": {},
     "output_type": "execute_result"
    }
   ],
   "source": [
    "log_reg1  = LogisticRegression()\n",
    "log_reg1.fit(x_train,y_train)"
   ]
  },
  {
   "cell_type": "markdown",
   "id": "ecd830b0",
   "metadata": {},
   "source": [
    "### Train Evaluation Before Over-Sampling"
   ]
  },
  {
   "cell_type": "code",
   "execution_count": 57,
   "id": "839d93fe",
   "metadata": {},
   "outputs": [],
   "source": [
    "y_pred_train1 = log_reg1.predict(x_train)"
   ]
  },
  {
   "cell_type": "code",
   "execution_count": 58,
   "id": "87ced06b",
   "metadata": {},
   "outputs": [
    {
     "name": "stdout",
     "output_type": "stream",
     "text": [
      "Accuracy Score : 0.6099236641221374\n",
      "Confusion Matrix :\n",
      " [[1598    0]\n",
      " [1022    0]]\n",
      "Classification Report :\n",
      "               precision    recall  f1-score   support\n",
      "\n",
      "           0       0.61      1.00      0.76      1598\n",
      "           1       0.00      0.00      0.00      1022\n",
      "\n",
      "    accuracy                           0.61      2620\n",
      "   macro avg       0.30      0.50      0.38      2620\n",
      "weighted avg       0.37      0.61      0.46      2620\n",
      "\n"
     ]
    },
    {
     "name": "stderr",
     "output_type": "stream",
     "text": [
      "C:\\Users\\ankit\\AppData\\Local\\Programs\\Python\\Python310\\lib\\site-packages\\sklearn\\metrics\\_classification.py:1334: UndefinedMetricWarning: Precision and F-score are ill-defined and being set to 0.0 in labels with no predicted samples. Use `zero_division` parameter to control this behavior.\n",
      "  _warn_prf(average, modifier, msg_start, len(result))\n",
      "C:\\Users\\ankit\\AppData\\Local\\Programs\\Python\\Python310\\lib\\site-packages\\sklearn\\metrics\\_classification.py:1334: UndefinedMetricWarning: Precision and F-score are ill-defined and being set to 0.0 in labels with no predicted samples. Use `zero_division` parameter to control this behavior.\n",
      "  _warn_prf(average, modifier, msg_start, len(result))\n",
      "C:\\Users\\ankit\\AppData\\Local\\Programs\\Python\\Python310\\lib\\site-packages\\sklearn\\metrics\\_classification.py:1334: UndefinedMetricWarning: Precision and F-score are ill-defined and being set to 0.0 in labels with no predicted samples. Use `zero_division` parameter to control this behavior.\n",
      "  _warn_prf(average, modifier, msg_start, len(result))\n"
     ]
    }
   ],
   "source": [
    "acc = accuracy_score(y_train,y_pred_train1)\n",
    "print(\"Accuracy Score :\",acc)\n",
    "\n",
    "cnf_matrix = confusion_matrix(y_train,y_pred_train1)\n",
    "print(\"Confusion Matrix :\\n\",cnf_matrix)\n",
    "\n",
    "clf_report = classification_report(y_train,y_pred_train1)\n",
    "print(\"Classification Report :\\n\",clf_report)"
   ]
  },
  {
   "cell_type": "markdown",
   "id": "e30c3a45",
   "metadata": {},
   "source": [
    "### Test Evaluation Before Over-Sampling"
   ]
  },
  {
   "cell_type": "code",
   "execution_count": 59,
   "id": "efb652e1",
   "metadata": {},
   "outputs": [],
   "source": [
    "y_pred_test1 = log_reg1.predict(x_test)"
   ]
  },
  {
   "cell_type": "code",
   "execution_count": 60,
   "id": "f0700d1b",
   "metadata": {},
   "outputs": [
    {
     "name": "stdout",
     "output_type": "stream",
     "text": [
      "Accuracy Score : 0.6097560975609756\n",
      "Confusion Matrix :\n",
      " [[400   0]\n",
      " [256   0]]\n",
      "Classification Report :\n",
      "               precision    recall  f1-score   support\n",
      "\n",
      "           0       0.61      1.00      0.76       400\n",
      "           1       0.00      0.00      0.00       256\n",
      "\n",
      "    accuracy                           0.61       656\n",
      "   macro avg       0.30      0.50      0.38       656\n",
      "weighted avg       0.37      0.61      0.46       656\n",
      "\n"
     ]
    },
    {
     "name": "stderr",
     "output_type": "stream",
     "text": [
      "C:\\Users\\ankit\\AppData\\Local\\Programs\\Python\\Python310\\lib\\site-packages\\sklearn\\metrics\\_classification.py:1334: UndefinedMetricWarning: Precision and F-score are ill-defined and being set to 0.0 in labels with no predicted samples. Use `zero_division` parameter to control this behavior.\n",
      "  _warn_prf(average, modifier, msg_start, len(result))\n",
      "C:\\Users\\ankit\\AppData\\Local\\Programs\\Python\\Python310\\lib\\site-packages\\sklearn\\metrics\\_classification.py:1334: UndefinedMetricWarning: Precision and F-score are ill-defined and being set to 0.0 in labels with no predicted samples. Use `zero_division` parameter to control this behavior.\n",
      "  _warn_prf(average, modifier, msg_start, len(result))\n",
      "C:\\Users\\ankit\\AppData\\Local\\Programs\\Python\\Python310\\lib\\site-packages\\sklearn\\metrics\\_classification.py:1334: UndefinedMetricWarning: Precision and F-score are ill-defined and being set to 0.0 in labels with no predicted samples. Use `zero_division` parameter to control this behavior.\n",
      "  _warn_prf(average, modifier, msg_start, len(result))\n"
     ]
    }
   ],
   "source": [
    "acc = accuracy_score(y_test,y_pred_test1)\n",
    "print(\"Accuracy Score :\",acc)\n",
    "\n",
    "cnf_matrix = confusion_matrix(y_test,y_pred_test1)\n",
    "print(\"Confusion Matrix :\\n\",cnf_matrix)\n",
    "\n",
    "clf_report = classification_report(y_test,y_pred_test1)\n",
    "print(\"Classification Report :\\n\",clf_report)"
   ]
  },
  {
   "cell_type": "markdown",
   "id": "8c9f5ca7",
   "metadata": {},
   "source": [
    "### 2.Ridge Regression"
   ]
  },
  {
   "cell_type": "code",
   "execution_count": 61,
   "id": "a5460fba",
   "metadata": {},
   "outputs": [],
   "source": [
    "ridge_clf = RidgeClassifier(alpha = 100)"
   ]
  },
  {
   "cell_type": "code",
   "execution_count": 62,
   "id": "e783d91e",
   "metadata": {},
   "outputs": [
    {
     "data": {
      "text/html": [
       "<style>#sk-container-id-3 {color: black;background-color: white;}#sk-container-id-3 pre{padding: 0;}#sk-container-id-3 div.sk-toggleable {background-color: white;}#sk-container-id-3 label.sk-toggleable__label {cursor: pointer;display: block;width: 100%;margin-bottom: 0;padding: 0.3em;box-sizing: border-box;text-align: center;}#sk-container-id-3 label.sk-toggleable__label-arrow:before {content: \"▸\";float: left;margin-right: 0.25em;color: #696969;}#sk-container-id-3 label.sk-toggleable__label-arrow:hover:before {color: black;}#sk-container-id-3 div.sk-estimator:hover label.sk-toggleable__label-arrow:before {color: black;}#sk-container-id-3 div.sk-toggleable__content {max-height: 0;max-width: 0;overflow: hidden;text-align: left;background-color: #f0f8ff;}#sk-container-id-3 div.sk-toggleable__content pre {margin: 0.2em;color: black;border-radius: 0.25em;background-color: #f0f8ff;}#sk-container-id-3 input.sk-toggleable__control:checked~div.sk-toggleable__content {max-height: 200px;max-width: 100%;overflow: auto;}#sk-container-id-3 input.sk-toggleable__control:checked~label.sk-toggleable__label-arrow:before {content: \"▾\";}#sk-container-id-3 div.sk-estimator input.sk-toggleable__control:checked~label.sk-toggleable__label {background-color: #d4ebff;}#sk-container-id-3 div.sk-label input.sk-toggleable__control:checked~label.sk-toggleable__label {background-color: #d4ebff;}#sk-container-id-3 input.sk-hidden--visually {border: 0;clip: rect(1px 1px 1px 1px);clip: rect(1px, 1px, 1px, 1px);height: 1px;margin: -1px;overflow: hidden;padding: 0;position: absolute;width: 1px;}#sk-container-id-3 div.sk-estimator {font-family: monospace;background-color: #f0f8ff;border: 1px dotted black;border-radius: 0.25em;box-sizing: border-box;margin-bottom: 0.5em;}#sk-container-id-3 div.sk-estimator:hover {background-color: #d4ebff;}#sk-container-id-3 div.sk-parallel-item::after {content: \"\";width: 100%;border-bottom: 1px solid gray;flex-grow: 1;}#sk-container-id-3 div.sk-label:hover label.sk-toggleable__label {background-color: #d4ebff;}#sk-container-id-3 div.sk-serial::before {content: \"\";position: absolute;border-left: 1px solid gray;box-sizing: border-box;top: 0;bottom: 0;left: 50%;z-index: 0;}#sk-container-id-3 div.sk-serial {display: flex;flex-direction: column;align-items: center;background-color: white;padding-right: 0.2em;padding-left: 0.2em;position: relative;}#sk-container-id-3 div.sk-item {position: relative;z-index: 1;}#sk-container-id-3 div.sk-parallel {display: flex;align-items: stretch;justify-content: center;background-color: white;position: relative;}#sk-container-id-3 div.sk-item::before, #sk-container-id-3 div.sk-parallel-item::before {content: \"\";position: absolute;border-left: 1px solid gray;box-sizing: border-box;top: 0;bottom: 0;left: 50%;z-index: -1;}#sk-container-id-3 div.sk-parallel-item {display: flex;flex-direction: column;z-index: 1;position: relative;background-color: white;}#sk-container-id-3 div.sk-parallel-item:first-child::after {align-self: flex-end;width: 50%;}#sk-container-id-3 div.sk-parallel-item:last-child::after {align-self: flex-start;width: 50%;}#sk-container-id-3 div.sk-parallel-item:only-child::after {width: 0;}#sk-container-id-3 div.sk-dashed-wrapped {border: 1px dashed gray;margin: 0 0.4em 0.5em 0.4em;box-sizing: border-box;padding-bottom: 0.4em;background-color: white;}#sk-container-id-3 div.sk-label label {font-family: monospace;font-weight: bold;display: inline-block;line-height: 1.2em;}#sk-container-id-3 div.sk-label-container {text-align: center;}#sk-container-id-3 div.sk-container {/* jupyter's `normalize.less` sets `[hidden] { display: none; }` but bootstrap.min.css set `[hidden] { display: none !important; }` so we also need the `!important` here to be able to override the default hidden behavior on the sphinx rendered scikit-learn.org. See: https://github.com/scikit-learn/scikit-learn/issues/21755 */display: inline-block !important;position: relative;}#sk-container-id-3 div.sk-text-repr-fallback {display: none;}</style><div id=\"sk-container-id-3\" class=\"sk-top-container\"><div class=\"sk-text-repr-fallback\"><pre>RidgeClassifier(alpha=100)</pre><b>In a Jupyter environment, please rerun this cell to show the HTML representation or trust the notebook. <br />On GitHub, the HTML representation is unable to render, please try loading this page with nbviewer.org.</b></div><div class=\"sk-container\" hidden><div class=\"sk-item\"><div class=\"sk-estimator sk-toggleable\"><input class=\"sk-toggleable__control sk-hidden--visually\" id=\"sk-estimator-id-3\" type=\"checkbox\" checked><label for=\"sk-estimator-id-3\" class=\"sk-toggleable__label sk-toggleable__label-arrow\">RidgeClassifier</label><div class=\"sk-toggleable__content\"><pre>RidgeClassifier(alpha=100)</pre></div></div></div></div></div>"
      ],
      "text/plain": [
       "RidgeClassifier(alpha=100)"
      ]
     },
     "execution_count": 62,
     "metadata": {},
     "output_type": "execute_result"
    }
   ],
   "source": [
    "ridge_clf.fit(x_train_samples,y_train_samples)"
   ]
  },
  {
   "cell_type": "markdown",
   "id": "0fea60eb",
   "metadata": {},
   "source": [
    "### Train Evaluation"
   ]
  },
  {
   "cell_type": "code",
   "execution_count": 63,
   "id": "654bb05e",
   "metadata": {},
   "outputs": [],
   "source": [
    "y_pred_train_ridge = ridge_clf.predict(x_train_samples)"
   ]
  },
  {
   "cell_type": "code",
   "execution_count": 64,
   "id": "53198666",
   "metadata": {},
   "outputs": [
    {
     "name": "stdout",
     "output_type": "stream",
     "text": [
      "Accuracy Score : 0.5184605757196495\n",
      "Confusion Matrix :\n",
      " [[834 764]\n",
      " [775 823]]\n",
      "Classification Report :\n",
      "               precision    recall  f1-score   support\n",
      "\n",
      "           0       0.52      0.52      0.52      1598\n",
      "           1       0.52      0.52      0.52      1598\n",
      "\n",
      "    accuracy                           0.52      3196\n",
      "   macro avg       0.52      0.52      0.52      3196\n",
      "weighted avg       0.52      0.52      0.52      3196\n",
      "\n"
     ]
    }
   ],
   "source": [
    "acc = accuracy_score(y_train_samples,y_pred_train_ridge)\n",
    "print(\"Accuracy Score :\",acc)\n",
    "\n",
    "cnf_matrix = confusion_matrix(y_train_samples,y_pred_train_ridge)\n",
    "print(\"Confusion Matrix :\\n\",cnf_matrix)\n",
    "\n",
    "clf_report = classification_report(y_train_samples,y_pred_train_ridge)\n",
    "print(\"Classification Report :\\n\",clf_report)"
   ]
  },
  {
   "cell_type": "markdown",
   "id": "db12c377",
   "metadata": {},
   "source": [
    "### Test Evaluation"
   ]
  },
  {
   "cell_type": "code",
   "execution_count": 65,
   "id": "bc115ca5",
   "metadata": {},
   "outputs": [],
   "source": [
    "y_pred_test_ridge = ridge_clf.predict(x_test_samples)"
   ]
  },
  {
   "cell_type": "code",
   "execution_count": 66,
   "id": "1281b78c",
   "metadata": {},
   "outputs": [
    {
     "name": "stdout",
     "output_type": "stream",
     "text": [
      "Accuracy Score : 0.52125\n",
      "Confusion Matrix :\n",
      " [[206 194]\n",
      " [189 211]]\n",
      "Classification Report :\n",
      "               precision    recall  f1-score   support\n",
      "\n",
      "           0       0.52      0.52      0.52       400\n",
      "           1       0.52      0.53      0.52       400\n",
      "\n",
      "    accuracy                           0.52       800\n",
      "   macro avg       0.52      0.52      0.52       800\n",
      "weighted avg       0.52      0.52      0.52       800\n",
      "\n"
     ]
    }
   ],
   "source": [
    "acc = accuracy_score(y_test_samples,y_pred_test_ridge)\n",
    "print(\"Accuracy Score :\",acc)\n",
    "\n",
    "cnf_matrix = confusion_matrix(y_test_samples,y_pred_test_ridge)\n",
    "print(\"Confusion Matrix :\\n\",cnf_matrix)\n",
    "\n",
    "clf_report = classification_report(y_test_samples,y_pred_test_ridge)\n",
    "print(\"Classification Report :\\n\",clf_report)"
   ]
  },
  {
   "cell_type": "code",
   "execution_count": 67,
   "id": "5d5a5a99",
   "metadata": {},
   "outputs": [],
   "source": [
    "ph              =   0.491784\n",
    "Hardness         =  0.330108\n",
    "Solids            = 0.239257\n",
    "Chloramines        =0.730680\n",
    "Sulfate            =0.540109\n",
    "Conductivity       =0.184377\n",
    "Organic_carbon     =0.410068\n",
    "Trihalomethanes    =0.400462\n",
    "Turbidity          =0.592611"
   ]
  },
  {
   "cell_type": "code",
   "execution_count": null,
   "id": "7f07871f",
   "metadata": {},
   "outputs": [],
   "source": []
  },
  {
   "cell_type": "code",
   "execution_count": 68,
   "id": "072ef8b2",
   "metadata": {},
   "outputs": [],
   "source": [
    "ph                  =   3.716080\n",
    "Hardness            = 129.422921\n",
    "Solids             =18630.057858\n",
    "Chloramines         =   6.635246\n",
    "Sulfate              =       1000\n",
    "Conductivity         =592.885359\n",
    "Organic_carbon        =15.180013\n",
    "Trihalomethanes       =56.329076\n",
    "Turbidity              =4.500656"
   ]
  },
  {
   "cell_type": "code",
   "execution_count": 69,
   "id": "63bde947",
   "metadata": {},
   "outputs": [],
   "source": [
    "a = np.array([ph,Hardness,Solids,Chloramines,Sulfate,Conductivity,Organic_carbon,Trihalomethanes,Turbidity])"
   ]
  },
  {
   "cell_type": "code",
   "execution_count": 70,
   "id": "85068ecf",
   "metadata": {},
   "outputs": [
    {
     "name": "stderr",
     "output_type": "stream",
     "text": [
      "C:\\Users\\ankit\\AppData\\Local\\Programs\\Python\\Python310\\lib\\site-packages\\sklearn\\base.py:450: UserWarning: X does not have valid feature names, but MinMaxScaler was fitted with feature names\n",
      "  warnings.warn(\n"
     ]
    }
   ],
   "source": [
    "test_array = Normal.transform([a])\n",
    "#DF1 = pd.DataFrame(test_array,columns=x_test.columns)"
   ]
  },
  {
   "cell_type": "code",
   "execution_count": 71,
   "id": "63c367fa",
   "metadata": {},
   "outputs": [
    {
     "data": {
      "text/plain": [
       "array([[0.26543429, 0.29740044, 0.30061142, 0.49183922, 2.47421643,\n",
       "        0.71941108, 0.45169127, 0.41574413, 0.57679259]])"
      ]
     },
     "execution_count": 71,
     "metadata": {},
     "output_type": "execute_result"
    }
   ],
   "source": [
    "test_array"
   ]
  },
  {
   "cell_type": "code",
   "execution_count": 72,
   "id": "3d102853",
   "metadata": {},
   "outputs": [
    {
     "name": "stderr",
     "output_type": "stream",
     "text": [
      "C:\\Users\\ankit\\AppData\\Local\\Programs\\Python\\Python310\\lib\\site-packages\\sklearn\\base.py:450: UserWarning: X does not have valid feature names, but LogisticRegression was fitted with feature names\n",
      "  warnings.warn(\n"
     ]
    },
    {
     "data": {
      "text/plain": [
       "0"
      ]
     },
     "execution_count": 72,
     "metadata": {},
     "output_type": "execute_result"
    }
   ],
   "source": [
    "prediction = log_reg.predict(test_array)\n",
    "prediction[0]"
   ]
  },
  {
   "cell_type": "code",
   "execution_count": 73,
   "id": "27a29d8c",
   "metadata": {},
   "outputs": [],
   "source": [
    "import pickle"
   ]
  },
  {
   "cell_type": "code",
   "execution_count": 74,
   "id": "52323813",
   "metadata": {},
   "outputs": [],
   "source": [
    "with open(\"normalization.pkl\",\"wb\") as f:\n",
    "    pickle.dump(Normal,f)"
   ]
  },
  {
   "cell_type": "code",
   "execution_count": 75,
   "id": "ffa14211",
   "metadata": {},
   "outputs": [],
   "source": [
    "with open(\"Logistic_model.pkl\",\"wb\") as f:\n",
    "    pickle.dump(log_reg,f)"
   ]
  },
  {
   "cell_type": "code",
   "execution_count": null,
   "id": "d4d421de",
   "metadata": {},
   "outputs": [],
   "source": []
  }
 ],
 "metadata": {
  "kernelspec": {
   "display_name": "Python 3 (ipykernel)",
   "language": "python",
   "name": "python3"
  },
  "language_info": {
   "codemirror_mode": {
    "name": "ipython",
    "version": 3
   },
   "file_extension": ".py",
   "mimetype": "text/x-python",
   "name": "python",
   "nbconvert_exporter": "python",
   "pygments_lexer": "ipython3",
   "version": "3.10.5"
  }
 },
 "nbformat": 4,
 "nbformat_minor": 5
}
